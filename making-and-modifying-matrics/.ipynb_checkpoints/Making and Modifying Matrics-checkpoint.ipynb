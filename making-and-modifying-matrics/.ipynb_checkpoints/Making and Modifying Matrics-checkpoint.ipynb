{
 "cells": [
  {
   "cell_type": "markdown",
   "id": "dfe6cfca-b63d-4938-8ed2-66f614fed1c2",
   "metadata": {},
   "source": [
    "## Making and Modifying Matrics"
   ]
  },
  {
   "cell_type": "code",
   "execution_count": 1,
   "id": "328bdf0a-17f0-47a5-9bc9-9757d06f276f",
   "metadata": {},
   "outputs": [],
   "source": [
    "import numpy as np"
   ]
  },
  {
   "cell_type": "code",
   "execution_count": 3,
   "id": "0f86a8d2-cdb2-4402-82a0-1b9f384a4f96",
   "metadata": {},
   "outputs": [
    {
     "data": {
      "text/plain": [
       "[[1, 2, 3], [4, 5, 6], [7, 8, 9], [10, 11, 12]]"
      ]
     },
     "execution_count": 3,
     "metadata": {},
     "output_type": "execute_result"
    }
   ],
   "source": [
    "my_list = [[1, 2, 3],\n",
    "           [4, 5, 6],\n",
    "           [7, 8, 9],\n",
    "           [10, 11, 12]]\n",
    "my_list"
   ]
  },
  {
   "cell_type": "code",
   "execution_count": 4,
   "id": "6124d664-7636-4073-9aca-ba44c8b97f5d",
   "metadata": {},
   "outputs": [],
   "source": [
    "matrix = np.array(my_list)"
   ]
  },
  {
   "cell_type": "code",
   "execution_count": 5,
   "id": "03cc291b-ad5b-4401-8c16-e435ef5275f2",
   "metadata": {},
   "outputs": [
    {
     "data": {
      "text/plain": [
       "array([[ 1,  2,  3],\n",
       "       [ 4,  5,  6],\n",
       "       [ 7,  8,  9],\n",
       "       [10, 11, 12]])"
      ]
     },
     "execution_count": 5,
     "metadata": {},
     "output_type": "execute_result"
    }
   ],
   "source": [
    "matrix"
   ]
  },
  {
   "cell_type": "code",
   "execution_count": 6,
   "id": "49bd07b2-b9d6-4457-be23-89401bd9bed4",
   "metadata": {},
   "outputs": [
    {
     "data": {
      "text/plain": [
       "numpy.ndarray"
      ]
     },
     "execution_count": 6,
     "metadata": {},
     "output_type": "execute_result"
    }
   ],
   "source": [
    "type(matrix)"
   ]
  },
  {
   "cell_type": "code",
   "execution_count": 7,
   "id": "0d9cf22b-cd13-4fac-97d3-cf4ff5a5fa47",
   "metadata": {},
   "outputs": [],
   "source": [
    "vector = np.array([1,2,3,4])"
   ]
  },
  {
   "cell_type": "code",
   "execution_count": 8,
   "id": "54e57417-4458-48f7-afad-5900f83306fa",
   "metadata": {},
   "outputs": [
    {
     "data": {
      "text/plain": [
       "[1, 2, 3, 4]"
      ]
     },
     "execution_count": 8,
     "metadata": {},
     "output_type": "execute_result"
    }
   ],
   "source": [
    "list(vector)"
   ]
  },
  {
   "cell_type": "code",
   "execution_count": 9,
   "id": "7e123bdb-8fda-4e4d-ae60-77f7f06ae6c6",
   "metadata": {},
   "outputs": [
    {
     "data": {
      "text/plain": [
       "[array([1, 2, 3]), array([4, 5, 6]), array([7, 8, 9]), array([10, 11, 12])]"
      ]
     },
     "execution_count": 9,
     "metadata": {},
     "output_type": "execute_result"
    }
   ],
   "source": [
    "list(matrix)"
   ]
  },
  {
   "cell_type": "code",
   "execution_count": 10,
   "id": "fb402143-d1b3-4b57-9800-ae65dcab2e2f",
   "metadata": {},
   "outputs": [
    {
     "data": {
      "text/plain": [
       "[[1, 2, 3], [4, 5, 6], [7, 8, 9], [10, 11, 12]]"
      ]
     },
     "execution_count": 10,
     "metadata": {},
     "output_type": "execute_result"
    }
   ],
   "source": [
    "matrix.tolist()"
   ]
  },
  {
   "cell_type": "code",
   "execution_count": 11,
   "id": "d3c1257f-f487-46b4-bc8b-e075efbe4db1",
   "metadata": {},
   "outputs": [
    {
     "data": {
      "text/plain": [
       "[1, 2, 3, 4]"
      ]
     },
     "execution_count": 11,
     "metadata": {},
     "output_type": "execute_result"
    }
   ],
   "source": [
    "vector.tolist()"
   ]
  },
  {
   "cell_type": "code",
   "execution_count": 12,
   "id": "081e899c-e368-478c-83a0-73a07edbef04",
   "metadata": {},
   "outputs": [
    {
     "data": {
      "text/plain": [
       "array([[ 1,  2,  3],\n",
       "       [ 4,  5,  6],\n",
       "       [ 7,  8,  9],\n",
       "       [10, 11, 12]])"
      ]
     },
     "execution_count": 12,
     "metadata": {},
     "output_type": "execute_result"
    }
   ],
   "source": [
    "matrix"
   ]
  },
  {
   "cell_type": "code",
   "execution_count": 13,
   "id": "2102b4e2-32f4-4594-9a0c-a7f12537494a",
   "metadata": {},
   "outputs": [
    {
     "data": {
      "text/plain": [
       "array([1, 2, 3])"
      ]
     },
     "execution_count": 13,
     "metadata": {},
     "output_type": "execute_result"
    }
   ],
   "source": [
    "matrix[0]"
   ]
  },
  {
   "cell_type": "code",
   "execution_count": 15,
   "id": "c42ee7b6-7c9a-4e9a-bc50-3fa2334a69b7",
   "metadata": {},
   "outputs": [],
   "source": [
    "matrix[0] = np.array([3,3,3])"
   ]
  },
  {
   "cell_type": "code",
   "execution_count": 16,
   "id": "e7abfe80-6d3f-4d0e-98b6-b585a970dc34",
   "metadata": {},
   "outputs": [
    {
     "data": {
      "text/plain": [
       "array([[ 3,  3,  3],\n",
       "       [ 4,  5,  6],\n",
       "       [ 7,  8,  9],\n",
       "       [10, 11, 12]])"
      ]
     },
     "execution_count": 16,
     "metadata": {},
     "output_type": "execute_result"
    }
   ],
   "source": [
    "matrix"
   ]
  },
  {
   "cell_type": "code",
   "execution_count": 17,
   "id": "1381e642-df65-4ef8-b370-f9fb36242dcd",
   "metadata": {},
   "outputs": [
    {
     "data": {
      "text/plain": [
       "8"
      ]
     },
     "execution_count": 17,
     "metadata": {},
     "output_type": "execute_result"
    }
   ],
   "source": [
    "matrix[2][1]"
   ]
  },
  {
   "cell_type": "code",
   "execution_count": 18,
   "id": "5c4ac869-9afd-4d07-a2ce-33033e9a0077",
   "metadata": {},
   "outputs": [
    {
     "data": {
      "text/plain": [
       "8"
      ]
     },
     "execution_count": 18,
     "metadata": {},
     "output_type": "execute_result"
    }
   ],
   "source": [
    "matrix[2,1]"
   ]
  },
  {
   "cell_type": "code",
   "execution_count": 19,
   "id": "461d8561-7aff-4117-9ef2-902de778298a",
   "metadata": {},
   "outputs": [],
   "source": [
    "matrix[2,0] = 100"
   ]
  },
  {
   "cell_type": "code",
   "execution_count": 20,
   "id": "9de1ae6f-ef39-4925-b6b2-5752a24002ae",
   "metadata": {},
   "outputs": [
    {
     "data": {
      "text/plain": [
       "array([[  3,   3,   3],\n",
       "       [  4,   5,   6],\n",
       "       [100,   8,   9],\n",
       "       [ 10,  11,  12]])"
      ]
     },
     "execution_count": 20,
     "metadata": {},
     "output_type": "execute_result"
    }
   ],
   "source": [
    "matrix"
   ]
  },
  {
   "cell_type": "code",
   "execution_count": 21,
   "id": "b81c10c8-a04e-4f04-8963-7dd8b66e6734",
   "metadata": {},
   "outputs": [
    {
     "data": {
      "text/plain": [
       "array([ 3,  6,  9, 12])"
      ]
     },
     "execution_count": 21,
     "metadata": {},
     "output_type": "execute_result"
    }
   ],
   "source": [
    "matrix[:,2]"
   ]
  },
  {
   "cell_type": "code",
   "execution_count": 22,
   "id": "8bc2f9a5-fb92-4dcc-94b7-bc07be1991aa",
   "metadata": {},
   "outputs": [
    {
     "name": "stdout",
     "output_type": "stream",
     "text": [
      "[ 1 10 10]\n",
      "[10  8  5]\n"
     ]
    }
   ],
   "source": [
    "# Importing the numpy package with the alias np\n",
    "import numpy as np\n",
    "\n",
    "# Defining the matrix called my_matrix\n",
    "my_matrix = np.array([[1, 4, 5], [10, 13, 9], [10, 8, 5]])\n",
    "\n",
    "# YOURE CODE GOES BELOW HERE!\n",
    "\n",
    "# Find first column\n",
    "first_column = my_matrix[:,0]\n",
    "print(first_column)\n",
    "# Find third row\n",
    "third_row = my_matrix[2]\n",
    "print(third_row)\n"
   ]
  },
  {
   "cell_type": "markdown",
   "id": "de5b645a-3424-4771-8f37-a0a04e4e71cd",
   "metadata": {},
   "source": [
    "#### Attributes"
   ]
  },
  {
   "cell_type": "code",
   "execution_count": 23,
   "id": "8301a946-a74f-4e1f-9abb-bada139bdb1b",
   "metadata": {},
   "outputs": [],
   "source": [
    "vector = np.arange(5)"
   ]
  },
  {
   "cell_type": "code",
   "execution_count": 24,
   "id": "ae7adf7d-6bf1-4566-90c6-2aafb0457503",
   "metadata": {},
   "outputs": [
    {
     "data": {
      "text/plain": [
       "1"
      ]
     },
     "execution_count": 24,
     "metadata": {},
     "output_type": "execute_result"
    }
   ],
   "source": [
    "vector.ndim"
   ]
  },
  {
   "cell_type": "code",
   "execution_count": 25,
   "id": "2e8fa879-5e50-4e97-80ee-8eefbd528734",
   "metadata": {},
   "outputs": [],
   "source": [
    "matrix = np.array([[2,4],[4,6],[8,5]])"
   ]
  },
  {
   "cell_type": "code",
   "execution_count": 26,
   "id": "f47c945a-a48e-479d-ba57-da6ff5678368",
   "metadata": {},
   "outputs": [
    {
     "data": {
      "text/plain": [
       "2"
      ]
     },
     "execution_count": 26,
     "metadata": {},
     "output_type": "execute_result"
    }
   ],
   "source": [
    "matrix.ndim"
   ]
  },
  {
   "cell_type": "code",
   "execution_count": 27,
   "id": "298ac329-e2c0-4fb1-95f7-5005e7eeeebb",
   "metadata": {},
   "outputs": [
    {
     "data": {
      "text/plain": [
       "dtype('int32')"
      ]
     },
     "execution_count": 27,
     "metadata": {},
     "output_type": "execute_result"
    }
   ],
   "source": [
    "matrix.dtype"
   ]
  },
  {
   "cell_type": "code",
   "execution_count": 28,
   "id": "bbf9ff93-5bcf-4b38-b275-c8fcf544dfd4",
   "metadata": {},
   "outputs": [
    {
     "data": {
      "text/plain": [
       "dtype('int32')"
      ]
     },
     "execution_count": 28,
     "metadata": {},
     "output_type": "execute_result"
    }
   ],
   "source": [
    "vector.dtype"
   ]
  },
  {
   "cell_type": "code",
   "execution_count": 29,
   "id": "0e7ce0c4-5393-4fba-913c-455804841f60",
   "metadata": {},
   "outputs": [
    {
     "data": {
      "text/plain": [
       "5"
      ]
     },
     "execution_count": 29,
     "metadata": {},
     "output_type": "execute_result"
    }
   ],
   "source": [
    "vector.size"
   ]
  },
  {
   "cell_type": "code",
   "execution_count": 30,
   "id": "45505a48-a529-4676-8c6e-33cfb5554b6e",
   "metadata": {},
   "outputs": [
    {
     "data": {
      "text/plain": [
       "6"
      ]
     },
     "execution_count": 30,
     "metadata": {},
     "output_type": "execute_result"
    }
   ],
   "source": [
    "matrix.size"
   ]
  },
  {
   "cell_type": "code",
   "execution_count": 31,
   "id": "a23fd9d9-cab7-406b-9957-b2a731b4cc0e",
   "metadata": {},
   "outputs": [
    {
     "data": {
      "text/plain": [
       "(3, 2)"
      ]
     },
     "execution_count": 31,
     "metadata": {},
     "output_type": "execute_result"
    }
   ],
   "source": [
    "matrix.shape"
   ]
  },
  {
   "cell_type": "code",
   "execution_count": 32,
   "id": "8e4e38f9-e0ab-47e9-bc76-d2954e76afaa",
   "metadata": {},
   "outputs": [
    {
     "data": {
      "text/plain": [
       "array([[2, 4],\n",
       "       [4, 6],\n",
       "       [8, 5]])"
      ]
     },
     "execution_count": 32,
     "metadata": {},
     "output_type": "execute_result"
    }
   ],
   "source": [
    "matrix"
   ]
  },
  {
   "cell_type": "code",
   "execution_count": 33,
   "id": "875f8dcc-1e6e-4589-a4c8-d264d738eb5b",
   "metadata": {},
   "outputs": [
    {
     "data": {
      "text/plain": [
       "(5,)"
      ]
     },
     "execution_count": 33,
     "metadata": {},
     "output_type": "execute_result"
    }
   ],
   "source": [
    "vector.shape"
   ]
  },
  {
   "cell_type": "code",
   "execution_count": 34,
   "id": "59f0001f-23a4-4b9d-8bfb-67b378e2f32f",
   "metadata": {},
   "outputs": [],
   "source": [
    "row_vec = vector[np.newaxis, :]"
   ]
  },
  {
   "cell_type": "code",
   "execution_count": 35,
   "id": "872b40c4-2d24-40e7-9719-d00078498440",
   "metadata": {},
   "outputs": [
    {
     "data": {
      "text/plain": [
       "array([[0, 1, 2, 3, 4]])"
      ]
     },
     "execution_count": 35,
     "metadata": {},
     "output_type": "execute_result"
    }
   ],
   "source": [
    "row_vec"
   ]
  },
  {
   "cell_type": "code",
   "execution_count": 36,
   "id": "f9c3e262-f46f-4ae2-bff8-24ade27e310d",
   "metadata": {},
   "outputs": [],
   "source": [
    "col_vec = vector[:, np.newaxis]"
   ]
  },
  {
   "cell_type": "code",
   "execution_count": 37,
   "id": "f6dfd390-044f-4d6e-ace3-e058ab1b963a",
   "metadata": {},
   "outputs": [
    {
     "data": {
      "text/plain": [
       "array([[0],\n",
       "       [1],\n",
       "       [2],\n",
       "       [3],\n",
       "       [4]])"
      ]
     },
     "execution_count": 37,
     "metadata": {},
     "output_type": "execute_result"
    }
   ],
   "source": [
    "col_vec"
   ]
  },
  {
   "cell_type": "code",
   "execution_count": 38,
   "id": "0bf45f05-99dc-437e-ae1b-8c38ccb8f0c1",
   "metadata": {},
   "outputs": [
    {
     "data": {
      "text/plain": [
       "array([0, 1, 2, 3, 4])"
      ]
     },
     "execution_count": 38,
     "metadata": {},
     "output_type": "execute_result"
    }
   ],
   "source": [
    "vector"
   ]
  },
  {
   "cell_type": "code",
   "execution_count": 39,
   "id": "2a116b88-0298-4470-88b6-6de32b73f038",
   "metadata": {},
   "outputs": [
    {
     "data": {
      "text/plain": [
       "(5, 1)"
      ]
     },
     "execution_count": 39,
     "metadata": {},
     "output_type": "execute_result"
    }
   ],
   "source": [
    "col_vec.shape"
   ]
  },
  {
   "cell_type": "markdown",
   "id": "628b4c20-9c49-4275-b3df-d6568a983556",
   "metadata": {},
   "source": [
    "#### Changing the shape"
   ]
  },
  {
   "cell_type": "code",
   "execution_count": 40,
   "id": "b822e2bc-9ddc-40b2-bc0f-f4c770e0420a",
   "metadata": {},
   "outputs": [],
   "source": [
    "vector = np.arange(1,101)"
   ]
  },
  {
   "cell_type": "code",
   "execution_count": 41,
   "id": "af53537a-14ce-455b-8058-677fd765751a",
   "metadata": {},
   "outputs": [
    {
     "data": {
      "text/plain": [
       "array([  1,   2,   3,   4,   5,   6,   7,   8,   9,  10,  11,  12,  13,\n",
       "        14,  15,  16,  17,  18,  19,  20,  21,  22,  23,  24,  25,  26,\n",
       "        27,  28,  29,  30,  31,  32,  33,  34,  35,  36,  37,  38,  39,\n",
       "        40,  41,  42,  43,  44,  45,  46,  47,  48,  49,  50,  51,  52,\n",
       "        53,  54,  55,  56,  57,  58,  59,  60,  61,  62,  63,  64,  65,\n",
       "        66,  67,  68,  69,  70,  71,  72,  73,  74,  75,  76,  77,  78,\n",
       "        79,  80,  81,  82,  83,  84,  85,  86,  87,  88,  89,  90,  91,\n",
       "        92,  93,  94,  95,  96,  97,  98,  99, 100])"
      ]
     },
     "execution_count": 41,
     "metadata": {},
     "output_type": "execute_result"
    }
   ],
   "source": [
    "vector"
   ]
  },
  {
   "cell_type": "code",
   "execution_count": 42,
   "id": "a7dd3a3a-7207-4712-abfd-a96cc202a9a7",
   "metadata": {},
   "outputs": [],
   "source": [
    "matrix = vector.reshape(10,10)"
   ]
  },
  {
   "cell_type": "code",
   "execution_count": 43,
   "id": "63c09569-cb04-4139-b35b-66f88a395e1a",
   "metadata": {},
   "outputs": [
    {
     "data": {
      "text/plain": [
       "array([[  1,   2,   3,   4,   5,   6,   7,   8,   9,  10],\n",
       "       [ 11,  12,  13,  14,  15,  16,  17,  18,  19,  20],\n",
       "       [ 21,  22,  23,  24,  25,  26,  27,  28,  29,  30],\n",
       "       [ 31,  32,  33,  34,  35,  36,  37,  38,  39,  40],\n",
       "       [ 41,  42,  43,  44,  45,  46,  47,  48,  49,  50],\n",
       "       [ 51,  52,  53,  54,  55,  56,  57,  58,  59,  60],\n",
       "       [ 61,  62,  63,  64,  65,  66,  67,  68,  69,  70],\n",
       "       [ 71,  72,  73,  74,  75,  76,  77,  78,  79,  80],\n",
       "       [ 81,  82,  83,  84,  85,  86,  87,  88,  89,  90],\n",
       "       [ 91,  92,  93,  94,  95,  96,  97,  98,  99, 100]])"
      ]
     },
     "execution_count": 43,
     "metadata": {},
     "output_type": "execute_result"
    }
   ],
   "source": [
    "matrix"
   ]
  },
  {
   "cell_type": "code",
   "execution_count": 44,
   "id": "a6f0dff5-1068-480d-96bb-5a12477b144d",
   "metadata": {},
   "outputs": [
    {
     "data": {
      "text/plain": [
       "array([  1,   2,   3,   4,   5,   6,   7,   8,   9,  10,  11,  12,  13,\n",
       "        14,  15,  16,  17,  18,  19,  20,  21,  22,  23,  24,  25,  26,\n",
       "        27,  28,  29,  30,  31,  32,  33,  34,  35,  36,  37,  38,  39,\n",
       "        40,  41,  42,  43,  44,  45,  46,  47,  48,  49,  50,  51,  52,\n",
       "        53,  54,  55,  56,  57,  58,  59,  60,  61,  62,  63,  64,  65,\n",
       "        66,  67,  68,  69,  70,  71,  72,  73,  74,  75,  76,  77,  78,\n",
       "        79,  80,  81,  82,  83,  84,  85,  86,  87,  88,  89,  90,  91,\n",
       "        92,  93,  94,  95,  96,  97,  98,  99, 100])"
      ]
     },
     "execution_count": 44,
     "metadata": {},
     "output_type": "execute_result"
    }
   ],
   "source": [
    "matrix.reshape(100)"
   ]
  },
  {
   "cell_type": "code",
   "execution_count": 45,
   "id": "c23188ca-9d98-49a6-9ccf-af723952b773",
   "metadata": {},
   "outputs": [],
   "source": [
    "matrix[0,0] = -20"
   ]
  },
  {
   "cell_type": "code",
   "execution_count": 46,
   "id": "98975691-d221-4d98-a154-292f7322cc9e",
   "metadata": {},
   "outputs": [
    {
     "data": {
      "text/plain": [
       "array([[-20,   2,   3,   4,   5,   6,   7,   8,   9,  10],\n",
       "       [ 11,  12,  13,  14,  15,  16,  17,  18,  19,  20],\n",
       "       [ 21,  22,  23,  24,  25,  26,  27,  28,  29,  30],\n",
       "       [ 31,  32,  33,  34,  35,  36,  37,  38,  39,  40],\n",
       "       [ 41,  42,  43,  44,  45,  46,  47,  48,  49,  50],\n",
       "       [ 51,  52,  53,  54,  55,  56,  57,  58,  59,  60],\n",
       "       [ 61,  62,  63,  64,  65,  66,  67,  68,  69,  70],\n",
       "       [ 71,  72,  73,  74,  75,  76,  77,  78,  79,  80],\n",
       "       [ 81,  82,  83,  84,  85,  86,  87,  88,  89,  90],\n",
       "       [ 91,  92,  93,  94,  95,  96,  97,  98,  99, 100]])"
      ]
     },
     "execution_count": 46,
     "metadata": {},
     "output_type": "execute_result"
    }
   ],
   "source": [
    "matrix"
   ]
  },
  {
   "cell_type": "code",
   "execution_count": 47,
   "id": "f8a923b6-1dfc-4560-bb72-1f83f080f985",
   "metadata": {},
   "outputs": [
    {
     "data": {
      "text/plain": [
       "array([-20,   2,   3,   4,   5,   6,   7,   8,   9,  10,  11,  12,  13,\n",
       "        14,  15,  16,  17,  18,  19,  20,  21,  22,  23,  24,  25,  26,\n",
       "        27,  28,  29,  30,  31,  32,  33,  34,  35,  36,  37,  38,  39,\n",
       "        40,  41,  42,  43,  44,  45,  46,  47,  48,  49,  50,  51,  52,\n",
       "        53,  54,  55,  56,  57,  58,  59,  60,  61,  62,  63,  64,  65,\n",
       "        66,  67,  68,  69,  70,  71,  72,  73,  74,  75,  76,  77,  78,\n",
       "        79,  80,  81,  82,  83,  84,  85,  86,  87,  88,  89,  90,  91,\n",
       "        92,  93,  94,  95,  96,  97,  98,  99, 100])"
      ]
     },
     "execution_count": 47,
     "metadata": {},
     "output_type": "execute_result"
    }
   ],
   "source": [
    "vector"
   ]
  },
  {
   "cell_type": "code",
   "execution_count": 48,
   "id": "c0f43e11-8f09-4ab9-8695-f5549f604eb2",
   "metadata": {},
   "outputs": [
    {
     "data": {
      "text/plain": [
       "array([[-20,   2],\n",
       "       [  3,   4],\n",
       "       [  5,   6],\n",
       "       [  7,   8],\n",
       "       [  9,  10],\n",
       "       [ 11,  12],\n",
       "       [ 13,  14],\n",
       "       [ 15,  16],\n",
       "       [ 17,  18],\n",
       "       [ 19,  20],\n",
       "       [ 21,  22],\n",
       "       [ 23,  24],\n",
       "       [ 25,  26],\n",
       "       [ 27,  28],\n",
       "       [ 29,  30],\n",
       "       [ 31,  32],\n",
       "       [ 33,  34],\n",
       "       [ 35,  36],\n",
       "       [ 37,  38],\n",
       "       [ 39,  40],\n",
       "       [ 41,  42],\n",
       "       [ 43,  44],\n",
       "       [ 45,  46],\n",
       "       [ 47,  48],\n",
       "       [ 49,  50],\n",
       "       [ 51,  52],\n",
       "       [ 53,  54],\n",
       "       [ 55,  56],\n",
       "       [ 57,  58],\n",
       "       [ 59,  60],\n",
       "       [ 61,  62],\n",
       "       [ 63,  64],\n",
       "       [ 65,  66],\n",
       "       [ 67,  68],\n",
       "       [ 69,  70],\n",
       "       [ 71,  72],\n",
       "       [ 73,  74],\n",
       "       [ 75,  76],\n",
       "       [ 77,  78],\n",
       "       [ 79,  80],\n",
       "       [ 81,  82],\n",
       "       [ 83,  84],\n",
       "       [ 85,  86],\n",
       "       [ 87,  88],\n",
       "       [ 89,  90],\n",
       "       [ 91,  92],\n",
       "       [ 93,  94],\n",
       "       [ 95,  96],\n",
       "       [ 97,  98],\n",
       "       [ 99, 100]])"
      ]
     },
     "execution_count": 48,
     "metadata": {},
     "output_type": "execute_result"
    }
   ],
   "source": [
    "matrix.reshape(50,2)"
   ]
  },
  {
   "cell_type": "code",
   "execution_count": 49,
   "id": "d9bec2fb-1782-4a43-9516-cbbafa1a1a63",
   "metadata": {},
   "outputs": [
    {
     "data": {
      "text/plain": [
       "array([[-20,   2],\n",
       "       [  3,   4],\n",
       "       [  5,   6],\n",
       "       [  7,   8],\n",
       "       [  9,  10],\n",
       "       [ 11,  12],\n",
       "       [ 13,  14],\n",
       "       [ 15,  16],\n",
       "       [ 17,  18],\n",
       "       [ 19,  20],\n",
       "       [ 21,  22],\n",
       "       [ 23,  24],\n",
       "       [ 25,  26],\n",
       "       [ 27,  28],\n",
       "       [ 29,  30],\n",
       "       [ 31,  32],\n",
       "       [ 33,  34],\n",
       "       [ 35,  36],\n",
       "       [ 37,  38],\n",
       "       [ 39,  40],\n",
       "       [ 41,  42],\n",
       "       [ 43,  44],\n",
       "       [ 45,  46],\n",
       "       [ 47,  48],\n",
       "       [ 49,  50],\n",
       "       [ 51,  52],\n",
       "       [ 53,  54],\n",
       "       [ 55,  56],\n",
       "       [ 57,  58],\n",
       "       [ 59,  60],\n",
       "       [ 61,  62],\n",
       "       [ 63,  64],\n",
       "       [ 65,  66],\n",
       "       [ 67,  68],\n",
       "       [ 69,  70],\n",
       "       [ 71,  72],\n",
       "       [ 73,  74],\n",
       "       [ 75,  76],\n",
       "       [ 77,  78],\n",
       "       [ 79,  80],\n",
       "       [ 81,  82],\n",
       "       [ 83,  84],\n",
       "       [ 85,  86],\n",
       "       [ 87,  88],\n",
       "       [ 89,  90],\n",
       "       [ 91,  92],\n",
       "       [ 93,  94],\n",
       "       [ 95,  96],\n",
       "       [ 97,  98],\n",
       "       [ 99, 100]])"
      ]
     },
     "execution_count": 49,
     "metadata": {},
     "output_type": "execute_result"
    }
   ],
   "source": [
    "matrix.reshape(50,-1)"
   ]
  },
  {
   "cell_type": "code",
   "execution_count": 51,
   "id": "ff0bf593-abe3-4cb3-807d-9780191e1ffa",
   "metadata": {},
   "outputs": [
    {
     "data": {
      "text/plain": [
       "array([[-20,   2,   3,   4,   5,   6,   7,   8,   9,  10,  11,  12,  13,\n",
       "         14,  15,  16,  17,  18,  19,  20],\n",
       "       [ 21,  22,  23,  24,  25,  26,  27,  28,  29,  30,  31,  32,  33,\n",
       "         34,  35,  36,  37,  38,  39,  40],\n",
       "       [ 41,  42,  43,  44,  45,  46,  47,  48,  49,  50,  51,  52,  53,\n",
       "         54,  55,  56,  57,  58,  59,  60],\n",
       "       [ 61,  62,  63,  64,  65,  66,  67,  68,  69,  70,  71,  72,  73,\n",
       "         74,  75,  76,  77,  78,  79,  80],\n",
       "       [ 81,  82,  83,  84,  85,  86,  87,  88,  89,  90,  91,  92,  93,\n",
       "         94,  95,  96,  97,  98,  99, 100]])"
      ]
     },
     "execution_count": 51,
     "metadata": {},
     "output_type": "execute_result"
    }
   ],
   "source": [
    "matrix.reshape(-1,20)"
   ]
  },
  {
   "cell_type": "code",
   "execution_count": 52,
   "id": "fd37ce38-8b30-438a-b88d-7076279fbcd3",
   "metadata": {},
   "outputs": [
    {
     "ename": "ValueError",
     "evalue": "cannot reshape array of size 100 into shape (23,newaxis)",
     "output_type": "error",
     "traceback": [
      "\u001b[1;31m---------------------------------------------------------------------------\u001b[0m",
      "\u001b[1;31mValueError\u001b[0m                                Traceback (most recent call last)",
      "Cell \u001b[1;32mIn[52], line 1\u001b[0m\n\u001b[1;32m----> 1\u001b[0m \u001b[43mmatrix\u001b[49m\u001b[38;5;241;43m.\u001b[39;49m\u001b[43mreshape\u001b[49m\u001b[43m(\u001b[49m\u001b[38;5;241;43m23\u001b[39;49m\u001b[43m,\u001b[49m\u001b[38;5;241;43m-\u001b[39;49m\u001b[38;5;241;43m1\u001b[39;49m\u001b[43m)\u001b[49m\n",
      "\u001b[1;31mValueError\u001b[0m: cannot reshape array of size 100 into shape (23,newaxis)"
     ]
    }
   ],
   "source": [
    "matrix.reshape(23,-1)"
   ]
  },
  {
   "cell_type": "code",
   "execution_count": 53,
   "id": "1929c176-8aaf-4569-902a-501a5ad53398",
   "metadata": {},
   "outputs": [
    {
     "data": {
      "text/plain": [
       "array([-20,   2,   3,   4,   5,   6,   7,   8,   9,  10,  11,  12,  13,\n",
       "        14,  15,  16,  17,  18,  19,  20,  21,  22,  23,  24,  25,  26,\n",
       "        27,  28,  29,  30,  31,  32,  33,  34,  35,  36,  37,  38,  39,\n",
       "        40,  41,  42,  43,  44,  45,  46,  47,  48,  49,  50,  51,  52,\n",
       "        53,  54,  55,  56,  57,  58,  59,  60,  61,  62,  63,  64,  65,\n",
       "        66,  67,  68,  69,  70,  71,  72,  73,  74,  75,  76,  77,  78,\n",
       "        79,  80,  81,  82,  83,  84,  85,  86,  87,  88,  89,  90,  91,\n",
       "        92,  93,  94,  95,  96,  97,  98,  99, 100])"
      ]
     },
     "execution_count": 53,
     "metadata": {},
     "output_type": "execute_result"
    }
   ],
   "source": [
    "matrix.reshape(-1)"
   ]
  },
  {
   "cell_type": "code",
   "execution_count": 55,
   "id": "567d685e-3852-42f9-bb8a-47eadc95d8fc",
   "metadata": {},
   "outputs": [],
   "source": [
    "new_vector = matrix.flatten()"
   ]
  },
  {
   "cell_type": "code",
   "execution_count": 56,
   "id": "2248680a-6e86-4fc9-b2c2-a3805ece807d",
   "metadata": {},
   "outputs": [
    {
     "data": {
      "text/plain": [
       "array([-20,   2,   3,   4,   5,   6,   7,   8,   9,  10,  11,  12,  13,\n",
       "        14,  15,  16,  17,  18,  19,  20,  21,  22,  23,  24,  25,  26,\n",
       "        27,  28,  29,  30,  31,  32,  33,  34,  35,  36,  37,  38,  39,\n",
       "        40,  41,  42,  43,  44,  45,  46,  47,  48,  49,  50,  51,  52,\n",
       "        53,  54,  55,  56,  57,  58,  59,  60,  61,  62,  63,  64,  65,\n",
       "        66,  67,  68,  69,  70,  71,  72,  73,  74,  75,  76,  77,  78,\n",
       "        79,  80,  81,  82,  83,  84,  85,  86,  87,  88,  89,  90,  91,\n",
       "        92,  93,  94,  95,  96,  97,  98,  99, 100])"
      ]
     },
     "execution_count": 56,
     "metadata": {},
     "output_type": "execute_result"
    }
   ],
   "source": [
    "new_vector"
   ]
  },
  {
   "cell_type": "code",
   "execution_count": 57,
   "id": "09ddecb5-edf1-44dd-af3a-c52eda6b5007",
   "metadata": {},
   "outputs": [],
   "source": [
    "new_vector[0] = 1000"
   ]
  },
  {
   "cell_type": "code",
   "execution_count": 58,
   "id": "5f1b61e3-7ed9-4db7-9b7b-fc3eb1901bff",
   "metadata": {},
   "outputs": [
    {
     "data": {
      "text/plain": [
       "array([1000,    2,    3,    4,    5,    6,    7,    8,    9,   10,   11,\n",
       "         12,   13,   14,   15,   16,   17,   18,   19,   20,   21,   22,\n",
       "         23,   24,   25,   26,   27,   28,   29,   30,   31,   32,   33,\n",
       "         34,   35,   36,   37,   38,   39,   40,   41,   42,   43,   44,\n",
       "         45,   46,   47,   48,   49,   50,   51,   52,   53,   54,   55,\n",
       "         56,   57,   58,   59,   60,   61,   62,   63,   64,   65,   66,\n",
       "         67,   68,   69,   70,   71,   72,   73,   74,   75,   76,   77,\n",
       "         78,   79,   80,   81,   82,   83,   84,   85,   86,   87,   88,\n",
       "         89,   90,   91,   92,   93,   94,   95,   96,   97,   98,   99,\n",
       "        100])"
      ]
     },
     "execution_count": 58,
     "metadata": {},
     "output_type": "execute_result"
    }
   ],
   "source": [
    "new_vector"
   ]
  },
  {
   "cell_type": "code",
   "execution_count": 59,
   "id": "3cc80768-de5e-4b06-a5a6-cc41d73a10e8",
   "metadata": {},
   "outputs": [
    {
     "data": {
      "text/plain": [
       "array([[-20,   2,   3,   4,   5,   6,   7,   8,   9,  10],\n",
       "       [ 11,  12,  13,  14,  15,  16,  17,  18,  19,  20],\n",
       "       [ 21,  22,  23,  24,  25,  26,  27,  28,  29,  30],\n",
       "       [ 31,  32,  33,  34,  35,  36,  37,  38,  39,  40],\n",
       "       [ 41,  42,  43,  44,  45,  46,  47,  48,  49,  50],\n",
       "       [ 51,  52,  53,  54,  55,  56,  57,  58,  59,  60],\n",
       "       [ 61,  62,  63,  64,  65,  66,  67,  68,  69,  70],\n",
       "       [ 71,  72,  73,  74,  75,  76,  77,  78,  79,  80],\n",
       "       [ 81,  82,  83,  84,  85,  86,  87,  88,  89,  90],\n",
       "       [ 91,  92,  93,  94,  95,  96,  97,  98,  99, 100]])"
      ]
     },
     "execution_count": 59,
     "metadata": {},
     "output_type": "execute_result"
    }
   ],
   "source": [
    "matrix"
   ]
  },
  {
   "cell_type": "code",
   "execution_count": 60,
   "id": "a3328196-8900-4f0d-b99e-d5a2bae94539",
   "metadata": {},
   "outputs": [],
   "source": [
    "new_matrix = np.copy(matrix)"
   ]
  },
  {
   "cell_type": "code",
   "execution_count": 63,
   "id": "e4a984d5-d5fa-4b29-82e7-133bc77d7fd4",
   "metadata": {},
   "outputs": [],
   "source": [
    "new_matrix[0] = 1"
   ]
  },
  {
   "cell_type": "code",
   "execution_count": 64,
   "id": "e511904c-a638-47c6-a25f-78c93186b2ee",
   "metadata": {},
   "outputs": [
    {
     "data": {
      "text/plain": [
       "array([[  1,   1,   1,   1,   1,   1,   1,   1,   1,   1],\n",
       "       [ 11,  12,  13,  14,  15,  16,  17,  18,  19,  20],\n",
       "       [ 21,  22,  23,  24,  25,  26,  27,  28,  29,  30],\n",
       "       [ 31,  32,  33,  34,  35,  36,  37,  38,  39,  40],\n",
       "       [ 41,  42,  43,  44,  45,  46,  47,  48,  49,  50],\n",
       "       [ 51,  52,  53,  54,  55,  56,  57,  58,  59,  60],\n",
       "       [ 61,  62,  63,  64,  65,  66,  67,  68,  69,  70],\n",
       "       [ 71,  72,  73,  74,  75,  76,  77,  78,  79,  80],\n",
       "       [ 81,  82,  83,  84,  85,  86,  87,  88,  89,  90],\n",
       "       [ 91,  92,  93,  94,  95,  96,  97,  98,  99, 100]])"
      ]
     },
     "execution_count": 64,
     "metadata": {},
     "output_type": "execute_result"
    }
   ],
   "source": [
    "new_matrix"
   ]
  },
  {
   "cell_type": "code",
   "execution_count": 66,
   "id": "ade82ad3-b102-4349-8f99-f89c9837081c",
   "metadata": {},
   "outputs": [
    {
     "data": {
      "text/plain": [
       "array([[ 1,  4],\n",
       "       [ 5, 10],\n",
       "       [13,  9],\n",
       "       [10, 13],\n",
       "       [ 9, 10],\n",
       "       [ 8,  5]])"
      ]
     },
     "execution_count": 66,
     "metadata": {},
     "output_type": "execute_result"
    }
   ],
   "source": [
    "# Importing the numpy package with the alias np\n",
    "import numpy as np\n",
    "\n",
    "# Defining the matrix called my_matrix\n",
    "my_matrix = np.array([[1, 4, 5], [10, 13, 9], [10, 13, 9], [10, 8, 5]])\n",
    "\n",
    "# YOURE CODE GOES BELOW HERE!\n",
    "\n",
    "# Reshaped matrix\n",
    "two_columns = my_matrix.reshape(-1,2)\n",
    "two_columns"
   ]
  },
  {
   "cell_type": "markdown",
   "id": "4b123773-4dd4-4193-94a7-ee3dc037e135",
   "metadata": {},
   "source": [
    "#### New matrices and spectifying axis in function"
   ]
  },
  {
   "cell_type": "code",
   "execution_count": 67,
   "id": "4dc5d61c-8fb9-48a8-857e-9af6e4c7ac90",
   "metadata": {},
   "outputs": [
    {
     "data": {
      "text/plain": [
       "array([[0., 0., 0., 0., 0., 0., 0.],\n",
       "       [0., 0., 0., 0., 0., 0., 0.],\n",
       "       [0., 0., 0., 0., 0., 0., 0.]])"
      ]
     },
     "execution_count": 67,
     "metadata": {},
     "output_type": "execute_result"
    }
   ],
   "source": [
    "np.zeros((3,7))"
   ]
  },
  {
   "cell_type": "code",
   "execution_count": 68,
   "id": "ac98387f-94c3-47ed-aa66-6468e296d983",
   "metadata": {},
   "outputs": [
    {
     "data": {
      "text/plain": [
       "array([0., 0., 0., 0., 0., 0., 0., 0., 0., 0.])"
      ]
     },
     "execution_count": 68,
     "metadata": {},
     "output_type": "execute_result"
    }
   ],
   "source": [
    "np.zeros(10)"
   ]
  },
  {
   "cell_type": "code",
   "execution_count": 69,
   "id": "093ec4c2-49ca-4166-9db1-b03c1d8728b3",
   "metadata": {},
   "outputs": [
    {
     "data": {
      "text/plain": [
       "array([[1., 1., 1., 1., 1.],\n",
       "       [1., 1., 1., 1., 1.],\n",
       "       [1., 1., 1., 1., 1.],\n",
       "       [1., 1., 1., 1., 1.],\n",
       "       [1., 1., 1., 1., 1.],\n",
       "       [1., 1., 1., 1., 1.],\n",
       "       [1., 1., 1., 1., 1.],\n",
       "       [1., 1., 1., 1., 1.],\n",
       "       [1., 1., 1., 1., 1.],\n",
       "       [1., 1., 1., 1., 1.]])"
      ]
     },
     "execution_count": 69,
     "metadata": {},
     "output_type": "execute_result"
    }
   ],
   "source": [
    "np.ones((10,5))"
   ]
  },
  {
   "cell_type": "code",
   "execution_count": 70,
   "id": "f1c7b1c2-9f89-4a94-9627-6fe9dffa4cb4",
   "metadata": {},
   "outputs": [
    {
     "data": {
      "text/plain": [
       "array([1., 1., 1., 1., 1., 1., 1., 1., 1., 1., 1., 1.])"
      ]
     },
     "execution_count": 70,
     "metadata": {},
     "output_type": "execute_result"
    }
   ],
   "source": [
    "np.ones(12)"
   ]
  },
  {
   "cell_type": "code",
   "execution_count": 72,
   "id": "b03ded8e-94bf-4656-a92f-8712b62c53a8",
   "metadata": {},
   "outputs": [
    {
     "data": {
      "text/plain": [
       "array([[1., 0., 0.],\n",
       "       [0., 1., 0.],\n",
       "       [0., 0., 1.]])"
      ]
     },
     "execution_count": 72,
     "metadata": {},
     "output_type": "execute_result"
    }
   ],
   "source": [
    "np.eye(3)"
   ]
  },
  {
   "cell_type": "code",
   "execution_count": 74,
   "id": "2f12f4b1-c223-4d2e-b915-ce285aa7e1bc",
   "metadata": {},
   "outputs": [],
   "source": [
    "matrix = np.array([[7, 8, 7 , 3],\n",
    "                   [4, 5, 2, 3 ],\n",
    "                   [0 , 4, 3 , 4]])"
   ]
  },
  {
   "cell_type": "code",
   "execution_count": 75,
   "id": "5683ab7f-40e0-4fc1-8ece-705b5c554d66",
   "metadata": {},
   "outputs": [
    {
     "data": {
      "text/plain": [
       "50"
      ]
     },
     "execution_count": 75,
     "metadata": {},
     "output_type": "execute_result"
    }
   ],
   "source": [
    "matrix.sum()"
   ]
  },
  {
   "cell_type": "code",
   "execution_count": 76,
   "id": "f9101300-1c2e-46b2-ae43-d9ea71ca7307",
   "metadata": {},
   "outputs": [
    {
     "data": {
      "text/plain": [
       "array([25, 14, 11])"
      ]
     },
     "execution_count": 76,
     "metadata": {},
     "output_type": "execute_result"
    }
   ],
   "source": [
    "matrix.sum(axis = 1)"
   ]
  },
  {
   "cell_type": "code",
   "execution_count": 77,
   "id": "b80b6dcc-ce09-4aa4-93d8-9a9b4d5e56d5",
   "metadata": {},
   "outputs": [
    {
     "data": {
      "text/plain": [
       "array([11, 17, 12, 10])"
      ]
     },
     "execution_count": 77,
     "metadata": {},
     "output_type": "execute_result"
    }
   ],
   "source": [
    "matrix.sum(axis=0)"
   ]
  },
  {
   "cell_type": "code",
   "execution_count": 78,
   "id": "8814299a-07d6-46fd-aa31-eb2d0adee117",
   "metadata": {},
   "outputs": [
    {
     "data": {
      "text/plain": [
       "4.166666666666667"
      ]
     },
     "execution_count": 78,
     "metadata": {},
     "output_type": "execute_result"
    }
   ],
   "source": [
    "matrix.mean()"
   ]
  },
  {
   "cell_type": "code",
   "execution_count": 79,
   "id": "3e0c1195-a8b0-4ee8-beb2-1e722b03a041",
   "metadata": {},
   "outputs": [
    {
     "data": {
      "text/plain": [
       "array([3.66666667, 5.66666667, 4.        , 3.33333333])"
      ]
     },
     "execution_count": 79,
     "metadata": {},
     "output_type": "execute_result"
    }
   ],
   "source": [
    "matrix.mean(axis = 0)"
   ]
  },
  {
   "cell_type": "code",
   "execution_count": 80,
   "id": "315c794e-719e-4fdb-a133-9d9b0d971e29",
   "metadata": {},
   "outputs": [
    {
     "data": {
      "text/plain": [
       "array([6.25, 3.5 , 2.75])"
      ]
     },
     "execution_count": 80,
     "metadata": {},
     "output_type": "execute_result"
    }
   ],
   "source": [
    "matrix.mean(axis=1)"
   ]
  },
  {
   "cell_type": "code",
   "execution_count": 81,
   "id": "7a42df78-d790-4883-8bf8-1ead4e6f593b",
   "metadata": {},
   "outputs": [
    {
     "data": {
      "text/plain": [
       "array([8, 5, 4])"
      ]
     },
     "execution_count": 81,
     "metadata": {},
     "output_type": "execute_result"
    }
   ],
   "source": [
    "matrix.max(axis=1)"
   ]
  },
  {
   "cell_type": "code",
   "execution_count": 82,
   "id": "254ba5f6-002e-42f7-8aec-a5eb29ffed17",
   "metadata": {},
   "outputs": [
    {
     "data": {
      "text/plain": [
       "array([7, 8, 7, 4])"
      ]
     },
     "execution_count": 82,
     "metadata": {},
     "output_type": "execute_result"
    }
   ],
   "source": [
    "matrix.max(axis=0)"
   ]
  },
  {
   "cell_type": "code",
   "execution_count": 83,
   "id": "41edb07e-2d56-4703-9313-8bb1ec1538f7",
   "metadata": {},
   "outputs": [
    {
     "data": {
      "text/plain": [
       "0"
      ]
     },
     "execution_count": 83,
     "metadata": {},
     "output_type": "execute_result"
    }
   ],
   "source": [
    "matrix.min()"
   ]
  },
  {
   "cell_type": "code",
   "execution_count": null,
   "id": "9b649a5a-0329-4c04-bf6f-d9c6dd2ae72d",
   "metadata": {},
   "outputs": [],
   "source": []
  }
 ],
 "metadata": {
  "kernelspec": {
   "display_name": "Python 3 (ipykernel)",
   "language": "python",
   "name": "python3"
  },
  "language_info": {
   "codemirror_mode": {
    "name": "ipython",
    "version": 3
   },
   "file_extension": ".py",
   "mimetype": "text/x-python",
   "name": "python",
   "nbconvert_exporter": "python",
   "pygments_lexer": "ipython3",
   "version": "3.11.4"
  }
 },
 "nbformat": 4,
 "nbformat_minor": 5
}
