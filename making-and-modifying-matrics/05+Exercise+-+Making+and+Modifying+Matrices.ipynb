{
 "cells": [
  {
   "cell_type": "markdown",
   "metadata": {},
   "source": [
    "# 05 Exercise - Making and Modifying Matrices"
   ]
  },
  {
   "cell_type": "markdown",
   "metadata": {},
   "source": [
    "In this exercise set, we are going are going to work with a dataset about the weather in Berlin. This will give us plenty of practice with 2D arrays."
   ]
  },
  {
   "cell_type": "code",
   "execution_count": 1,
   "metadata": {},
   "outputs": [
    {
     "name": "stdout",
     "output_type": "stream",
     "text": [
      "Record High:\n",
      "[15.1, 18.0, 25.8, 30.8, 32.7, 35.4, 37.3, 38.0, 32.3, 27.7, 20.4, 15.6]\n",
      "\n",
      "Daily Mean:\n",
      "[0.1, 0.9, 43, 9.0, 14.0, 16.8, 19.1, 18.5, 14.2, 9.4, 4.4, 1.0]\n",
      "\n",
      "Record Low:\n",
      "[-25.3, -22.0, -16.0, -7.4, -2.8, 1.3, 4.9, 4.6, -0.9, -7.7, -12.0, -24.0]\n",
      "\n"
     ]
    }
   ],
   "source": [
    "# DON'T MODIFY THIS CELL, ONLY RUN IT.\n",
    "\n",
    "# Importing numpy as np.\n",
    "import numpy as np\n",
    "\n",
    "# List of weather in Berlin in Celsius taken from Wikipedia\n",
    "row_description = [\"Record High\", \"Daily Mean\", \"Record Low\"]\n",
    "berlin_weather_list = [\n",
    "    [15.1, 18.0, 25.8, 30.8, 32.7, 35.4, 37.3, 38.0, 32.3, 27.7, 20.4, 15.6], \n",
    "    [0.1, 0.9, 43, 9.0, 14.0, 16.8, 19.1, 18.5, 14.2, 9.4, 4.4, 1.0],\n",
    "    [-25.3, -22.0, -16.0, -7.4, -2.8, 1.3, 4.9, 4.6, -0.9, -7.7, -12.0, -24.0]\n",
    "]\n",
    "\n",
    "# Print out the data\n",
    "for idx, row in enumerate(row_description):\n",
    "    print(f'{row}:\\n{berlin_weather_list[idx]}\\n')"
   ]
  },
  {
   "cell_type": "markdown",
   "metadata": {},
   "source": [
    "## Exercise 1: Make a 2D Array"
   ]
  },
  {
   "cell_type": "markdown",
   "metadata": {},
   "source": [
    "Make a 2D array called <b>berlin_weather</b> from the <b>berlin_weather_list</b> and check the size of the array."
   ]
  },
  {
   "cell_type": "code",
   "execution_count": 3,
   "metadata": {
    "scrolled": true
   },
   "outputs": [
    {
     "data": {
      "text/plain": [
       "(3, 12)"
      ]
     },
     "execution_count": 3,
     "metadata": {},
     "output_type": "execute_result"
    }
   ],
   "source": [
    "# Convert the berlin_weather_list into a NumPy array\n",
    "berlin_weather = np.array(berlin_weather_list)\n",
    "# Find the shape of the array\n",
    "berlin_weather.shape"
   ]
  },
  {
   "cell_type": "markdown",
   "metadata": {},
   "source": [
    "## Exercise 2: Changing Enteries"
   ]
  },
  {
   "cell_type": "markdown",
   "metadata": {},
   "source": [
    "There is a typo in the dataset. The average temperature for March daily average should be 4.3 not 43. Fix the mistake by using indexing, not by modifying the original list."
   ]
  },
  {
   "cell_type": "code",
   "execution_count": 4,
   "metadata": {},
   "outputs": [
    {
     "data": {
      "text/plain": [
       "array([[ 15.1,  18. ,  25.8,  30.8,  32.7,  35.4,  37.3,  38. ,  32.3,\n",
       "         27.7,  20.4,  15.6],\n",
       "       [  0.1,   0.9,   4.3,   9. ,  14. ,  16.8,  19.1,  18.5,  14.2,\n",
       "          9.4,   4.4,   1. ],\n",
       "       [-25.3, -22. , -16. ,  -7.4,  -2.8,   1.3,   4.9,   4.6,  -0.9,\n",
       "         -7.7, -12. , -24. ]])"
      ]
     },
     "execution_count": 4,
     "metadata": {},
     "output_type": "execute_result"
    }
   ],
   "source": [
    "# Setting the daily average for March to be 4.3\n",
    "berlin_weather[1][2] = 4.3\n",
    "berlin_weather"
   ]
  },
  {
   "cell_type": "markdown",
   "metadata": {},
   "source": [
    "## Exercise 3:  Printing Out the Data"
   ]
  },
  {
   "cell_type": "markdown",
   "metadata": {},
   "source": [
    "Print out the column containing the data for June."
   ]
  },
  {
   "cell_type": "code",
   "execution_count": 5,
   "metadata": {},
   "outputs": [
    {
     "data": {
      "text/plain": [
       "array([37.3, 19.1,  4.9])"
      ]
     },
     "execution_count": 5,
     "metadata": {},
     "output_type": "execute_result"
    }
   ],
   "source": [
    "# Data for June\n",
    "berlin_weather[:,6]"
   ]
  },
  {
   "cell_type": "markdown",
   "metadata": {},
   "source": [
    "## Exercise 4: Reshaping the Data"
   ]
  },
  {
   "cell_type": "markdown",
   "metadata": {},
   "source": [
    "### Exercise 4a: \n",
    "Take the row containing the record low temperatures and reshape it into a matrix with 6 rows and 2 columns."
   ]
  },
  {
   "cell_type": "code",
   "execution_count": 13,
   "metadata": {},
   "outputs": [
    {
     "data": {
      "text/plain": [
       "array([[-25.3, -22. ],\n",
       "       [-16. ,  -7.4],\n",
       "       [ -2.8,   1.3],\n",
       "       [  4.9,   4.6],\n",
       "       [ -0.9,  -7.7],\n",
       "       [-12. , -24. ]])"
      ]
     },
     "execution_count": 13,
     "metadata": {},
     "output_type": "execute_result"
    }
   ],
   "source": [
    "# Reshape the record low temperatures\n",
    "berlin_weather.argmin(axis=0)\n",
    "record_low = berlin_weather[2,:].reshape(6,2)\n",
    "record_low"
   ]
  },
  {
   "cell_type": "markdown",
   "metadata": {},
   "source": [
    "### Exercise 4b: \n",
    "Take average of pairs of consecutive months of the record low temeratures.\n",
    "\n",
    "<i>Hint: </i> Use what you found in Exercise 4a and the mean method."
   ]
  },
  {
   "cell_type": "code",
   "execution_count": 14,
   "metadata": {},
   "outputs": [
    {
     "data": {
      "text/plain": [
       "-8.941666666666665"
      ]
     },
     "execution_count": 14,
     "metadata": {},
     "output_type": "execute_result"
    }
   ],
   "source": [
    "# Take average of pairs of consecutive months.\n",
    "record_low.mean()"
   ]
  },
  {
   "cell_type": "markdown",
   "metadata": {},
   "source": [
    "## Exercise 5: Max and Min\n",
    "Find the maximum and minimum values over all the rows."
   ]
  },
  {
   "cell_type": "code",
   "execution_count": 15,
   "metadata": {},
   "outputs": [
    {
     "data": {
      "text/plain": [
       "38.0"
      ]
     },
     "execution_count": 15,
     "metadata": {},
     "output_type": "execute_result"
    }
   ],
   "source": [
    "# The max over all the rows\n",
    "berlin_weather.max()"
   ]
  },
  {
   "cell_type": "code",
   "execution_count": 16,
   "metadata": {
    "scrolled": true
   },
   "outputs": [
    {
     "data": {
      "text/plain": [
       "-25.3"
      ]
     },
     "execution_count": 16,
     "metadata": {},
     "output_type": "execute_result"
    }
   ],
   "source": [
    "# The min over all the rows\n",
    "berlin_weather.min()"
   ]
  },
  {
   "cell_type": "markdown",
   "metadata": {},
   "source": [
    "## Exercise 6: Boolean Matrices"
   ]
  },
  {
   "cell_type": "markdown",
   "metadata": {},
   "source": [
    "### Exercise 6a: \n",
    "For how many rows are the average temperature over 10 degrees Celsius?"
   ]
  },
  {
   "cell_type": "code",
   "execution_count": 20,
   "metadata": {},
   "outputs": [
    {
     "data": {
      "text/plain": [
       "19"
      ]
     },
     "execution_count": 20,
     "metadata": {},
     "output_type": "execute_result"
    }
   ],
   "source": [
    "# The total number of months with average over 10 degrees Celsius\n",
    "average_over_10_ = berlin_weather < 10\n",
    "count = np.sum(average_over_10_)\n",
    "count\n"
   ]
  },
  {
   "cell_type": "markdown",
   "metadata": {},
   "source": [
    "### Exercise 6b: \n",
    "Are there months where the record high is subzero?"
   ]
  },
  {
   "cell_type": "code",
   "execution_count": 23,
   "metadata": {},
   "outputs": [
    {
     "data": {
      "text/plain": [
       "array([False, False, False, False, False, False, False, False, False,\n",
       "       False, False, False])"
      ]
     },
     "execution_count": 23,
     "metadata": {},
     "output_type": "execute_result"
    }
   ],
   "source": [
    "# Any record highs below zero?\n",
    "record_high = berlin_weather[0,:]\n",
    "record_high < 0"
   ]
  },
  {
   "cell_type": "markdown",
   "metadata": {},
   "source": [
    "What about months where the daily average is subzero?"
   ]
  },
  {
   "cell_type": "code",
   "execution_count": 24,
   "metadata": {},
   "outputs": [
    {
     "data": {
      "text/plain": [
       "array([False, False, False, False, False, False, False, False, False,\n",
       "       False, False, False])"
      ]
     },
     "execution_count": 24,
     "metadata": {},
     "output_type": "execute_result"
    }
   ],
   "source": [
    "# Any averages below zero?\n",
    "record_daily = berlin_weather[1,:]\n",
    "record_daily < 0"
   ]
  },
  {
   "cell_type": "markdown",
   "metadata": {},
   "source": [
    "## Moral of the Story"
   ]
  },
  {
   "cell_type": "markdown",
   "metadata": {},
   "source": [
    "In this exercise set, we have seen that reshaping and other techniques are vital for handeling data. Being comfortable with matricies in NumPy is a valuable skill. "
   ]
  }
 ],
 "metadata": {
  "kernelspec": {
   "display_name": "Python 3",
   "language": "python",
   "name": "python3"
  },
  "language_info": {
   "codemirror_mode": {
    "name": "ipython",
    "version": 3
   },
   "file_extension": ".py",
   "mimetype": "text/x-python",
   "name": "python",
   "nbconvert_exporter": "python",
   "pygments_lexer": "ipython3",
   "version": "3.11.4"
  }
 },
 "nbformat": 4,
 "nbformat_minor": 4
}
