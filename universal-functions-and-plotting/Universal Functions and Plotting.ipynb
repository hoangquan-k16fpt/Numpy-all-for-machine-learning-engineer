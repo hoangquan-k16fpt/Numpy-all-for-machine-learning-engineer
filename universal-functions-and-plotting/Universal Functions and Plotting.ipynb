{
 "cells": [
  {
   "cell_type": "markdown",
   "metadata": {},
   "source": [
    "#### Universal Functions"
   ]
  },
  {
   "cell_type": "code",
   "execution_count": 13,
   "metadata": {},
   "outputs": [],
   "source": [
    "import numpy as np"
   ]
  },
  {
   "cell_type": "code",
   "execution_count": 14,
   "metadata": {},
   "outputs": [
    {
     "data": {
      "text/plain": [
       "array([1, 2, 3, 4])"
      ]
     },
     "execution_count": 14,
     "metadata": {},
     "output_type": "execute_result"
    }
   ],
   "source": [
    "vector = np.arange(1,5)\n",
    "vector"
   ]
  },
  {
   "cell_type": "code",
   "execution_count": 15,
   "metadata": {},
   "outputs": [
    {
     "data": {
      "text/plain": [
       "array([ 2.71828183,  7.3890561 , 20.08553692, 54.59815003])"
      ]
     },
     "execution_count": 15,
     "metadata": {},
     "output_type": "execute_result"
    }
   ],
   "source": [
    "np.exp(vector)"
   ]
  },
  {
   "cell_type": "code",
   "execution_count": 16,
   "metadata": {},
   "outputs": [
    {
     "data": {
      "text/plain": [
       "array([ 3.14159265,  6.28318531,  9.42477796, 12.56637061])"
      ]
     },
     "execution_count": 16,
     "metadata": {},
     "output_type": "execute_result"
    }
   ],
   "source": [
    "vector * np.pi"
   ]
  },
  {
   "cell_type": "code",
   "execution_count": 17,
   "metadata": {},
   "outputs": [
    {
     "data": {
      "text/plain": [
       "array([-1.,  1., -1.,  1.])"
      ]
     },
     "execution_count": 17,
     "metadata": {},
     "output_type": "execute_result"
    }
   ],
   "source": [
    "np.cos(vector * np.pi)"
   ]
  },
  {
   "cell_type": "code",
   "execution_count": 18,
   "metadata": {},
   "outputs": [
    {
     "data": {
      "text/plain": [
       "2.718281828459045"
      ]
     },
     "execution_count": 18,
     "metadata": {},
     "output_type": "execute_result"
    }
   ],
   "source": [
    "np.e"
   ]
  },
  {
   "cell_type": "code",
   "execution_count": 19,
   "metadata": {},
   "outputs": [
    {
     "data": {
      "text/plain": [
       "array([1.        , 1.69314718, 2.09861229, 2.38629436])"
      ]
     },
     "execution_count": 19,
     "metadata": {},
     "output_type": "execute_result"
    }
   ],
   "source": [
    "np.log(np.e * vector)"
   ]
  },
  {
   "cell_type": "code",
   "execution_count": 20,
   "metadata": {},
   "outputs": [
    {
     "name": "stdout",
     "output_type": "stream",
     "text": [
      "logarithm: [0.         1.38629436 1.60943791 2.30258509 2.56494936 2.19722458\n",
      " 2.30258509]\n",
      "exponential: [2.71828183e+00 5.45981500e+01 1.48413159e+02 2.20264658e+04\n",
      " 4.42413392e+05 8.10308393e+03 2.20264658e+04]\n"
     ]
    }
   ],
   "source": [
    "# Importing the numpy package with the alias np\n",
    "import numpy as np\n",
    "\n",
    "# Defining the vector called my_vector\n",
    "my_vector = np.array([1, 4, 5, 10, 13, 9, 10])\n",
    "\n",
    "# YOURE CODE GOES BELOW HERE!\n",
    "\n",
    "# Take the logarithm of my_vector\n",
    "logarithm = np.log(my_vector)\n",
    "print(f'logarithm: {logarithm}')\n",
    "# Take the exponential of my_vector\n",
    "exponential = np.exp(my_vector)\n",
    "print(f'exponential: {exponential}')"
   ]
  },
  {
   "cell_type": "markdown",
   "metadata": {},
   "source": [
    "#### Plotting with Matpotlib"
   ]
  },
  {
   "cell_type": "code",
   "execution_count": 23,
   "metadata": {},
   "outputs": [],
   "source": [
    "import matplotlib.pyplot as plt"
   ]
  },
  {
   "cell_type": "code",
   "execution_count": 24,
   "metadata": {},
   "outputs": [
    {
     "data": {
      "text/plain": [
       "array([0, 1, 2, 3, 4])"
      ]
     },
     "execution_count": 24,
     "metadata": {},
     "output_type": "execute_result"
    }
   ],
   "source": [
    "x_values = np.arange(5)\n",
    "x_values"
   ]
  },
  {
   "cell_type": "code",
   "execution_count": 26,
   "metadata": {},
   "outputs": [
    {
     "data": {
      "text/plain": [
       "array([ 0.        ,  0.84147098,  0.90929743,  0.14112001, -0.7568025 ])"
      ]
     },
     "execution_count": 26,
     "metadata": {},
     "output_type": "execute_result"
    }
   ],
   "source": [
    "y_values = np.sin(x_values)\n",
    "y_values"
   ]
  },
  {
   "cell_type": "code",
   "execution_count": 27,
   "metadata": {},
   "outputs": [
    {
     "data": {
      "image/png": "[encoded data removed]",
      "text/plain": [
       "<Figure size 640x480 with 1 Axes>"
      ]
     },
     "metadata": {},
     "output_type": "display_data"
    }
   ],
   "source": [
    "plt.plot(x_values, y_values)\n",
    "plt.show()"
   ]
  },
  {
   "cell_type": "markdown",
   "metadata": {},
   "source": [
    "Plot the function $2\\cos(x)$ 0 and $\\pi$"
   ]
  },
  {
   "cell_type": "code",
   "execution_count": 29,
   "metadata": {},
   "outputs": [
    {
     "data": {
      "text/plain": [
       "array([0.        , 0.03173326, 0.06346652, 0.09519978, 0.12693304,\n",
       "       0.1586663 , 0.19039955, 0.22213281, 0.25386607, 0.28559933,\n",
       "       0.31733259, 0.34906585, 0.38079911, 0.41253237, 0.44426563,\n",
       "       0.47599889, 0.50773215, 0.53946541, 0.57119866, 0.60293192,\n",
       "       0.63466518, 0.66639844, 0.6981317 , 0.72986496, 0.76159822,\n",
       "       0.79333148, 0.82506474, 0.856798  , 0.88853126, 0.92026451,\n",
       "       0.95199777, 0.98373103, 1.01546429, 1.04719755, 1.07893081,\n",
       "       1.11066407, 1.14239733, 1.17413059, 1.20586385, 1.23759711,\n",
       "       1.26933037, 1.30106362, 1.33279688, 1.36453014, 1.3962634 ,\n",
       "       1.42799666, 1.45972992, 1.49146318, 1.52319644, 1.5549297 ,\n",
       "       1.58666296, 1.61839622, 1.65012947, 1.68186273, 1.71359599,\n",
       "       1.74532925, 1.77706251, 1.80879577, 1.84052903, 1.87226229,\n",
       "       1.90399555, 1.93572881, 1.96746207, 1.99919533, 2.03092858,\n",
       "       2.06266184, 2.0943951 , 2.12612836, 2.15786162, 2.18959488,\n",
       "       2.22132814, 2.2530614 , 2.28479466, 2.31652792, 2.34826118,\n",
       "       2.37999443, 2.41172769, 2.44346095, 2.47519421, 2.50692747,\n",
       "       2.53866073, 2.57039399, 2.60212725, 2.63386051, 2.66559377,\n",
       "       2.69732703, 2.72906028, 2.76079354, 2.7925268 , 2.82426006,\n",
       "       2.85599332, 2.88772658, 2.91945984, 2.9511931 , 2.98292636,\n",
       "       3.01465962, 3.04639288, 3.07812614, 3.10985939, 3.14159265])"
      ]
     },
     "execution_count": 29,
     "metadata": {},
     "output_type": "execute_result"
    }
   ],
   "source": [
    "x_values = np.linspace(0, np.pi, 100)\n",
    "x_values"
   ]
  },
  {
   "cell_type": "code",
   "execution_count": 30,
   "metadata": {},
   "outputs": [
    {
     "data": {
      "text/plain": [
       "array([ 2.        ,  1.99899308,  1.99597335,  1.99094385,  1.98390963,\n",
       "        1.97487778,  1.96385739,  1.95085957,  1.9358974 ,  1.91898595,\n",
       "        1.90014224,  1.87938524,  1.85673587,  1.83221691,  1.80585308,\n",
       "        1.7776709 ,  1.74769875,  1.71596683,  1.68250707,  1.64735316,\n",
       "        1.61054052,  1.57210619,  1.53208889,  1.4905289 ,  1.44746808,\n",
       "        1.40294978,  1.35701882,  1.30972147,  1.26110533,  1.21121937,\n",
       "        1.16011382,  1.10784013,  1.05445094,  1.        ,  0.94454215,\n",
       "        0.88813323,  0.83083003,  0.77269025,  0.71377244,  0.65413593,\n",
       "        0.59384075,  0.53294763,  0.47151787,  0.40961334,  0.34729636,\n",
       "        0.28462968,  0.2216764 ,  0.15849991,  0.09516383,  0.03173193,\n",
       "       -0.03173193, -0.09516383, -0.15849991, -0.2216764 , -0.28462968,\n",
       "       -0.34729636, -0.40961334, -0.47151787, -0.53294763, -0.59384075,\n",
       "       -0.65413593, -0.71377244, -0.77269025, -0.83083003, -0.88813323,\n",
       "       -0.94454215, -1.        , -1.05445094, -1.10784013, -1.16011382,\n",
       "       -1.21121937, -1.26110533, -1.30972147, -1.35701882, -1.40294978,\n",
       "       -1.44746808, -1.4905289 , -1.53208889, -1.57210619, -1.61054052,\n",
       "       -1.64735316, -1.68250707, -1.71596683, -1.74769875, -1.7776709 ,\n",
       "       -1.80585308, -1.83221691, -1.85673587, -1.87938524, -1.90014224,\n",
       "       -1.91898595, -1.9358974 , -1.95085957, -1.96385739, -1.97487778,\n",
       "       -1.98390963, -1.99094385, -1.99597335, -1.99899308, -2.        ])"
      ]
     },
     "execution_count": 30,
     "metadata": {},
     "output_type": "execute_result"
    }
   ],
   "source": [
    "y_values = 2 * np.cos(x_values)\n",
    "y_values\n"
   ]
  },
  {
   "cell_type": "code",
   "execution_count": 37,
   "metadata": {},
   "outputs": [
    {
     "data": {
      "text/plain": [
       "Text(0, 0.5, '$2*\\\\cos(x)$')"
      ]
     },
     "execution_count": 37,
     "metadata": {},
     "output_type": "execute_result"
    },
    {
     "data": {
      "image/png": "[encoded data removed]",
      "text/plain": [
       "<Figure size 640x480 with 1 Axes>"
      ]
     },
     "metadata": {},
     "output_type": "display_data"
    }
   ],
   "source": [
    "plt.plot(x_values, y_values)\n",
    "plt.xlabel('x_values')\n",
    "plt.ylabel('$2*\\cos(x)$')"
   ]
  },
  {
   "cell_type": "markdown",
   "metadata": {},
   "source": [
    "#### Bar Plot"
   ]
  },
  {
   "cell_type": "code",
   "execution_count": 38,
   "metadata": {},
   "outputs": [],
   "source": [
    "vector = np.array([5, 1 , 12, 0, 13])\n"
   ]
  },
  {
   "cell_type": "code",
   "execution_count": 40,
   "metadata": {},
   "outputs": [
    {
     "data": {
      "text/plain": [
       "array([1, 2, 3, 4, 5])"
      ]
     },
     "execution_count": 40,
     "metadata": {},
     "output_type": "execute_result"
    }
   ],
   "source": [
    "num_day = np.arange(1, len(vector)+1)\n",
    "num_day"
   ]
  },
  {
   "cell_type": "code",
   "execution_count": 44,
   "metadata": {},
   "outputs": [
    {
     "data": {
      "text/plain": [
       "Text(0, 0.5, 'Rain in mm')"
      ]
     },
     "execution_count": 44,
     "metadata": {},
     "output_type": "execute_result"
    },
    {
     "data": {
      "image/png": "[encoded data removed]",
      "text/plain": [
       "<Figure size 640x480 with 1 Axes>"
      ]
     },
     "metadata": {},
     "output_type": "display_data"
    }
   ],
   "source": [
    "plt.bar(num_day, vector)\n",
    "plt.xlabel('Day')\n",
    "plt.ylabel('Rain in mm')"
   ]
  },
  {
   "cell_type": "markdown",
   "metadata": {},
   "source": [
    "#### Scatter Plot"
   ]
  },
  {
   "cell_type": "code",
   "execution_count": 45,
   "metadata": {},
   "outputs": [
    {
     "data": {
      "text/plain": [
       "array([1. , 2. , 3. , 3.5, 4. , 4.5, 5. , 6.7, 7.8, 8.2, 9. ])"
      ]
     },
     "execution_count": 45,
     "metadata": {},
     "output_type": "execute_result"
    }
   ],
   "source": [
    "x_values = np.array([1, 2, 3, 3.5, 4, 4.5, 5, 6.7, 7.8, 8.2, 9])\n",
    "x_values"
   ]
  },
  {
   "cell_type": "code",
   "execution_count": 46,
   "metadata": {},
   "outputs": [
    {
     "data": {
      "text/plain": [
       "array([ 1.5,  2. ,  2.5,  3. ,  4. ,  6. ,  7.2,  8.5,  8.6,  9.2, 10. ])"
      ]
     },
     "execution_count": 46,
     "metadata": {},
     "output_type": "execute_result"
    }
   ],
   "source": [
    "y_values = np.array([1.5, 2, 2.5, 3, 4, 6, 7.2, 8.5, 8.6, 9.2, 10])\n",
    "y_values"
   ]
  },
  {
   "cell_type": "code",
   "execution_count": 49,
   "metadata": {},
   "outputs": [
    {
     "data": {
      "text/plain": [
       "Text(0.5, 1.0, 'profit in 2023')"
      ]
     },
     "execution_count": 49,
     "metadata": {},
     "output_type": "execute_result"
    },
    {
     "data": {
      "image/png": "[encoded data removed]",
      "text/plain": [
       "<Figure size 640x480 with 1 Axes>"
      ]
     },
     "metadata": {},
     "output_type": "display_data"
    }
   ],
   "source": [
    "plt.scatter(x_values, y_values)\n",
    "plt.xlabel('month')\n",
    "plt.ylabel('profit')\n",
    "plt.title('profit in 2023')"
   ]
  }
 ],
 "metadata": {
  "kernelspec": {
   "display_name": "venv",
   "language": "python",
   "name": "python3"
  },
  "language_info": {
   "codemirror_mode": {
    "name": "ipython",
    "version": 3
   },
   "file_extension": ".py",
   "mimetype": "text/x-python",
   "name": "python",
   "nbconvert_exporter": "python",
   "pygments_lexer": "ipython3",
   "version": "3.11.4"
  }
 },
 "nbformat": 4,
 "nbformat_minor": 2
}
