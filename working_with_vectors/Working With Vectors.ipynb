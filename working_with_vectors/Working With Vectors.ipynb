{
 "cells": [
  {
   "cell_type": "markdown",
   "id": "0f7d3711-33e1-4aa6-ae26-3bdb265feea2",
   "metadata": {},
   "source": [
    "#### Working with vectors in NumPy"
   ]
  },
  {
   "cell_type": "markdown",
   "id": "eccf0f13-ddc1-4b4d-86d2-25c27c1c01df",
   "metadata": {},
   "source": [
    "##### Creating Vectors and Extracting Values"
   ]
  },
  {
   "cell_type": "code",
   "execution_count": 2,
   "id": "d4c9d9ed-b59f-437a-9655-7f725da583be",
   "metadata": {},
   "outputs": [
    {
     "name": "stdout",
     "output_type": "stream",
     "text": [
      "<class 'numpy.ndarray'>\n",
      "[ 4  8 15 16 23 42]\n"
     ]
    }
   ],
   "source": [
    "#Basic creation with np.array\n",
    "import numpy as np\n",
    "list_of_num = [4, 8, 15, 16, 23, 42]\n",
    "array = np.array(list_of_num)\n",
    "print(type(array))\n",
    "print(array)"
   ]
  },
  {
   "cell_type": "code",
   "execution_count": 4,
   "id": "42a4ac41-fc5b-424d-b204-c1507b195d1b",
   "metadata": {},
   "outputs": [
    {
     "name": "stdout",
     "output_type": "stream",
     "text": [
      "4\n",
      "42\n"
     ]
    }
   ],
   "source": [
    "#Extract value \n",
    "first_element = array[0]\n",
    "print(first_element)\n",
    "last_element = array[-1]\n",
    "print(last_element)"
   ]
  },
  {
   "cell_type": "code",
   "execution_count": 5,
   "id": "2e6b2cc1-30e7-4363-80ca-d1e868f8e11d",
   "metadata": {},
   "outputs": [
    {
     "name": "stdout",
     "output_type": "stream",
     "text": [
      "[100   8  15  16  23  42]\n"
     ]
    }
   ],
   "source": [
    "#Setting values\n",
    "array[0] = 100\n",
    "print(array)"
   ]
  },
  {
   "cell_type": "code",
   "execution_count": 6,
   "id": "c4638553-bfa0-40bd-89c6-2db892d75114",
   "metadata": {},
   "outputs": [
    {
     "name": "stdout",
     "output_type": "stream",
     "text": [
      "[ 100    8   15   16   23 1000]\n"
     ]
    }
   ],
   "source": [
    "array[-1] = 1000\n",
    "print(array)"
   ]
  },
  {
   "cell_type": "code",
   "execution_count": 10,
   "id": "f3182782-39c1-4ca7-b131-48b20cd31e7f",
   "metadata": {},
   "outputs": [
    {
     "name": "stdout",
     "output_type": "stream",
     "text": [
      "[17.  19.5 22. ]\n"
     ]
    }
   ],
   "source": [
    "#Creating vectors with np.arange\n",
    "sequential_number = np.arange(17,23, 2.5)\n",
    "print(sequential_number)"
   ]
  },
  {
   "cell_type": "code",
   "execution_count": 11,
   "id": "b8261401-8d59-47b1-b596-28c119dfc611",
   "metadata": {},
   "outputs": [
    {
     "name": "stdout",
     "output_type": "stream",
     "text": [
      "[3 4 5 6 7]\n"
     ]
    }
   ],
   "source": [
    "# Import the NumPy package with alias np\n",
    "# Use np.arange to create a vector with six elements ranging from 3 to 8.\n",
    "vector = np.arange(3,8)\n",
    "print(vector)"
   ]
  },
  {
   "cell_type": "code",
   "execution_count": 13,
   "id": "43d68bc9-12a1-4b09-b362-7955733bc02a",
   "metadata": {},
   "outputs": [
    {
     "name": "stdout",
     "output_type": "stream",
     "text": [
      "[  1   4   5  10  13   9 100]\n"
     ]
    }
   ],
   "source": [
    "# Importing the numpy package with the alias np\n",
    "import numpy as np\n",
    "\n",
    "# Defining the vector called my_vector\n",
    "my_vector = np.array([1, 4, 5, 10, 13, 9, 10])\n",
    "\n",
    "# YOURE CODE GOES BELOW HERE!\n",
    "# Change the last value to 100\n",
    "my_vector[-1] = 100\n",
    "print(my_vector)"
   ]
  },
  {
   "cell_type": "markdown",
   "id": "fcfe6ede-0131-4716-aa08-4b6774d626ff",
   "metadata": {},
   "source": [
    "#### Basic Operations"
   ]
  },
  {
   "cell_type": "code",
   "execution_count": 18,
   "id": "0b2a9fc3-002c-43c3-9641-6f9d2824b9cf",
   "metadata": {},
   "outputs": [
    {
     "name": "stdout",
     "output_type": "stream",
     "text": [
      "sum: [ 7 10  6  6]\n",
      "sub: [-5 -6  0  2]\n",
      "multiply: [ 6 16  9  8]\n",
      "division: [0.167 0.25  1.    2.   ]\n",
      "expomentation: [  1 256  27  16]\n"
     ]
    }
   ],
   "source": [
    "first = np.arange(1,5) # 1 2 3 4\n",
    "second = np.array([6,8,3,2])\n",
    "\n",
    "#Addition \n",
    "summation = first + second\n",
    "print(f'sum: {summation}')\n",
    "\n",
    "#Subtraction\n",
    "subtraction = first - second\n",
    "print(f'sub: {subtraction}')\n",
    "\n",
    "#Multiplication\n",
    "multiply = first * second\n",
    "print(f'multiply: {multiply}')\n",
    "\n",
    "##Division\n",
    "division = np.around(first / second, 3)\n",
    "print(f'division: {division}')\n",
    "\n",
    "#Expomentation\n",
    "expomentation = first ** second\n",
    "print(f'expomentation: {expomentation}')"
   ]
  },
  {
   "cell_type": "code",
   "execution_count": 21,
   "id": "c071089c-8a8e-452c-b4e4-a212f685a6a0",
   "metadata": {},
   "outputs": [
    {
     "name": "stdout",
     "output_type": "stream",
     "text": [
      "sum: [  9   8   9   9  14  28 109]\n",
      "divide: [  0.12   1.     0.   -10.    13.     0.47   0.1 ]\n",
      "multiply: [  3  48   0 300 507 243 300]\n"
     ]
    }
   ],
   "source": [
    "# Importing the numpy package with the alias np\n",
    "import numpy as np\n",
    "\n",
    "# Defining the vectors called first_vector and second_vector\n",
    "first_vector = np.array([1, 4, 0, 10, 13, 9, 10])\n",
    "second_vector = np.array([8, 4, 9, -1, 1, 19, 99])\n",
    "\n",
    "# YOURE CODE GOES BELOW HERE!\n",
    "# sum of first_vector and second_vector\n",
    "sum_of_vectors = first_vector + second_vector\n",
    "print(f'sum: {sum_of_vectors}')\n",
    "\n",
    "# first_vector divided by second_vector\n",
    "first_divided_by_second = np.around(first_vector / second_vector, 2)\n",
    "print(f'divide: {first_divided_by_second}')\n",
    "\n",
    "# three multiplied by the square of the first_vector\n",
    "three_first_square = (first_vector ** 2) * 3\n",
    "print(f'multiply: {three_first_square}')"
   ]
  },
  {
   "cell_type": "markdown",
   "id": "2c5d1678-4e4b-4ca2-9fd9-1d8b9c2dbcae",
   "metadata": {},
   "source": [
    "#### NumPy DataTypes"
   ]
  },
  {
   "cell_type": "code",
   "execution_count": 25,
   "id": "bcba7694-02c4-4653-b0f2-f6ce97321f5e",
   "metadata": {},
   "outputs": [
    {
     "name": "stdout",
     "output_type": "stream",
     "text": [
      "int32\n"
     ]
    },
    {
     "data": {
      "text/plain": [
       "dtype('int32')"
      ]
     },
     "execution_count": 25,
     "metadata": {},
     "output_type": "execute_result"
    }
   ],
   "source": [
    "#What datatypes does NumPy have?\n",
    "array = np.array([4, 8, 15, 16, 23, 42])\n",
    "print(array.dtype)\n",
    "array.dtype"
   ]
  },
  {
   "cell_type": "code",
   "execution_count": 27,
   "id": "f5cca105-5e62-4bab-bda5-fb9a5fadc80c",
   "metadata": {},
   "outputs": [
    {
     "name": "stdout",
     "output_type": "stream",
     "text": [
      "int64\n"
     ]
    },
    {
     "data": {
      "text/plain": [
       "dtype('int64')"
      ]
     },
     "execution_count": 27,
     "metadata": {},
     "output_type": "execute_result"
    }
   ],
   "source": [
    "#What datatypes does NumPy have?\n",
    "array = np.array(np.int64([4, 8, 15, 16, 23, 42]))\n",
    "print(array.dtype)\n",
    "array.dtype"
   ]
  },
  {
   "cell_type": "code",
   "execution_count": 28,
   "id": "bafae7ad-f5cf-413b-b994-7b1d6756733e",
   "metadata": {},
   "outputs": [
    {
     "name": "stdout",
     "output_type": "stream",
     "text": [
      "float64\n"
     ]
    },
    {
     "data": {
      "text/plain": [
       "dtype('float64')"
      ]
     },
     "execution_count": 28,
     "metadata": {},
     "output_type": "execute_result"
    }
   ],
   "source": [
    "#What datatypes does NumPy have?\n",
    "array = np.array([4.5, 8.2, 15.55, 16, 23, 42])\n",
    "print(array.dtype)\n",
    "array.dtype"
   ]
  },
  {
   "cell_type": "code",
   "execution_count": 35,
   "id": "28ce3204-e281-4d6f-9f73-db015d1802fa",
   "metadata": {},
   "outputs": [
    {
     "name": "stdout",
     "output_type": "stream",
     "text": [
      "int32\n",
      "[104 108 115 116 123 142]\n"
     ]
    }
   ],
   "source": [
    "#We can specify the datatype\n",
    "array = np.array([4, 8, 15, 16, 23, 42], dtype=np.int32)\n",
    "print(array.dtype)\n",
    "#int8 can store up to 127\n",
    "array = array + 100\n",
    "print(array)"
   ]
  },
  {
   "cell_type": "code",
   "execution_count": 36,
   "id": "8fcdc753-078a-4045-9897-fbf744d0bb68",
   "metadata": {},
   "outputs": [
    {
     "name": "stdout",
     "output_type": "stream",
     "text": [
      "6\n",
      "6\n",
      "24\n"
     ]
    }
   ],
   "source": [
    "#Size of a vector\n",
    "print(len(array))\n",
    "print(array.size)\n",
    "\n",
    "#Number of bytes\n",
    "print(array.nbytes)"
   ]
  },
  {
   "cell_type": "markdown",
   "id": "f07a0e89-e333-4a12-ab9d-4097f116ae43",
   "metadata": {},
   "source": [
    "#### Slicing"
   ]
  },
  {
   "cell_type": "code",
   "execution_count": 37,
   "id": "04330f68-a543-4983-8b09-454cbc9996f7",
   "metadata": {},
   "outputs": [],
   "source": [
    "array = np.array([4, 8, 15, 16,23, 42])"
   ]
  },
  {
   "cell_type": "code",
   "execution_count": 42,
   "id": "8b752b16-3606-4629-bfe2-debb03c2b1a8",
   "metadata": {},
   "outputs": [
    {
     "name": "stdout",
     "output_type": "stream",
     "text": [
      "[ 4  8 15 16 23 42]\n",
      "[ 8 15 16 23 42]\n",
      "[15 16 23 42]\n",
      "[16 23 42]\n"
     ]
    }
   ],
   "source": [
    "#Everything after an index\n",
    "print(array[0:])\n",
    "print(array[1:])\n",
    "print(array[2:])\n",
    "print(array[3:])"
   ]
  },
  {
   "cell_type": "code",
   "execution_count": 43,
   "id": "a3cc2317-29fb-4116-8fd1-107b76708129",
   "metadata": {},
   "outputs": [
    {
     "data": {
      "text/plain": [
       "array([ 4,  8, 15, 16])"
      ]
     },
     "execution_count": 43,
     "metadata": {},
     "output_type": "execute_result"
    }
   ],
   "source": [
    "#Everything before an index\n",
    "array[:4]"
   ]
  },
  {
   "cell_type": "code",
   "execution_count": 45,
   "id": "84233efb-0724-43f5-82a8-4de9aa7ddd52",
   "metadata": {},
   "outputs": [
    {
     "data": {
      "text/plain": [
       "array([15, 16, 23])"
      ]
     },
     "execution_count": 45,
     "metadata": {},
     "output_type": "execute_result"
    }
   ],
   "source": [
    "#Inbetween indices\n",
    "array[2:5]"
   ]
  },
  {
   "cell_type": "code",
   "execution_count": 46,
   "id": "de82de90-a6a5-41f1-9981-2e48502900e0",
   "metadata": {},
   "outputs": [
    {
     "data": {
      "text/plain": [
       "array([15, 16])"
      ]
     },
     "execution_count": 46,
     "metadata": {},
     "output_type": "execute_result"
    }
   ],
   "source": [
    "#Negative indices\n",
    "array[2:-2]"
   ]
  },
  {
   "cell_type": "code",
   "execution_count": 47,
   "id": "cc333218-27c7-47f6-b59b-377823eb744e",
   "metadata": {},
   "outputs": [
    {
     "data": {
      "text/plain": [
       "array([ 4,  8, 15, 16, 23])"
      ]
     },
     "execution_count": 47,
     "metadata": {},
     "output_type": "execute_result"
    }
   ],
   "source": [
    "#Negative indices\n",
    "array[:-1]"
   ]
  },
  {
   "cell_type": "code",
   "execution_count": 49,
   "id": "912bcb4b-944e-45b3-b5f8-2c45d0b79474",
   "metadata": {},
   "outputs": [
    {
     "data": {
      "text/plain": [
       "array([42, 23, 16, 15,  8,  4])"
      ]
     },
     "execution_count": 49,
     "metadata": {},
     "output_type": "execute_result"
    }
   ],
   "source": [
    "#Reserve an array\n",
    "reserve_arr = array[::-1]\n",
    "reserve_arr"
   ]
  },
  {
   "cell_type": "code",
   "execution_count": 50,
   "id": "0dfd8f56-0f7c-488c-89f0-0ad5d5acaea7",
   "metadata": {},
   "outputs": [
    {
     "data": {
      "text/plain": [
       "array([42, 23, 16, 15,  8,  4])"
      ]
     },
     "execution_count": 50,
     "metadata": {},
     "output_type": "execute_result"
    }
   ],
   "source": [
    "reserve_array = np.flip(array)\n",
    "reserve_array"
   ]
  },
  {
   "cell_type": "markdown",
   "id": "37132331-7860-4cfd-8b36-b74dcbf14182",
   "metadata": {},
   "source": [
    "#### Sorting vectors"
   ]
  },
  {
   "cell_type": "code",
   "execution_count": 53,
   "id": "d0129308-1d9b-47bb-80ac-8b210dee296b",
   "metadata": {},
   "outputs": [
    {
     "name": "stdout",
     "output_type": "stream",
     "text": [
      "[ 3  4  4  8 15 15 23 42]\n"
     ]
    }
   ],
   "source": [
    "array = np.array([3,15, 4, 8, 15, 23, 4, 42])\n",
    "# arr.sort() is a method for in place sorting\n",
    "array.sort()\n",
    "print(array)"
   ]
  },
  {
   "cell_type": "code",
   "execution_count": 57,
   "id": "5bc182e6-27de-4554-8adf-b12809b777e1",
   "metadata": {},
   "outputs": [
    {
     "name": "stdout",
     "output_type": "stream",
     "text": [
      "sorted_array= [ 3  4  4  8 15 15 23 42]\n",
      "original_array = [ 3 15  4  8 15 23  4 42]\n",
      "CPU times: total: 0 ns\n",
      "Wall time: 0 ns\n"
     ]
    }
   ],
   "source": [
    "%%time\n",
    "array = np.array([3,15, 4, 8, 15, 23, 4, 42])\n",
    "# np.sort() is a function returning a sorted array\n",
    "sorted_array = np.sort(array)\n",
    "print(f'sorted_array= {sorted_array}')\n",
    "print(f'original_array = {array}')"
   ]
  },
  {
   "cell_type": "markdown",
   "id": "fc8196b3-94a1-49b8-9a99-294322b93ea8",
   "metadata": {},
   "source": [
    "#### Copies and Views"
   ]
  },
  {
   "cell_type": "code",
   "execution_count": 59,
   "id": "fd4abbea-71e8-47f8-9de8-5d923767aae1",
   "metadata": {},
   "outputs": [
    {
     "name": "stdout",
     "output_type": "stream",
     "text": [
      "modified: [1000    4   23   15    8    4   15    3]\n",
      "original: [   3   15    4    8   15   23    4 1000]\n"
     ]
    }
   ],
   "source": [
    "#Reserve an array\n",
    "array = np.array([3,15, 4, 8, 15, 23, 4, 42])\n",
    "reserve_arr = array[::-1]\n",
    "\n",
    "reserve_arr\n",
    "reserve_arr[0] = 1000\n",
    "print(f'modified: {reserve_arr}')\n",
    "print(f'original: {array}') #IT HAS ALSO CHANGE\n",
    "\n",
    "#Slicing created a 'views'"
   ]
  },
  {
   "cell_type": "code",
   "execution_count": 69,
   "id": "9035a70a-b35e-4a93-aa11-afdcac1fae61",
   "metadata": {},
   "outputs": [
    {
     "name": "stdout",
     "output_type": "stream",
     "text": [
      "[ 4  8 15 16 23 42]\n",
      "modified: [1000    8   15   16   23   42]\n",
      "original: [-4  8 15 16 23 42]\n"
     ]
    }
   ],
   "source": [
    "#Make array positive \n",
    "array = np.array([-4, 8, 15, 16, 23, 42])\n",
    "positive_array = np.abs(array)\n",
    "print(positive_array)\n",
    "\n",
    "positive_array[0] = 1000\n",
    "print(f'modified: {positive_array}')\n",
    "print(f'original: {array}')\n",
    "#It has not changed\n",
    "#np.abs() created a 'copy'"
   ]
  },
  {
   "cell_type": "markdown",
   "id": "575fbf18-79fc-4cd1-b08a-04404ab8edb0",
   "metadata": {},
   "source": [
    "#### Aggregate functions"
   ]
  },
  {
   "cell_type": "code",
   "execution_count": 2,
   "id": "4c15d4fd-3b29-44d3-a243-83c1808ebb53",
   "metadata": {},
   "outputs": [
    {
     "name": "stdout",
     "output_type": "stream",
     "text": [
      "Sum of array: 108\n",
      "sum of arr: 108\n",
      "mean of array: 18.0\n",
      "prod of array: 7418880\n"
     ]
    }
   ],
   "source": [
    "import numpy as np\n",
    "array = np.array([4, 8, 15, 16, 23, 42])\n",
    "#print(dir(array))\n",
    "\n",
    "sum_of_arr = 0\n",
    "for num in array:\n",
    "    sum_of_arr += num\n",
    "print(f'Sum of array: {sum_of_arr}')\n",
    "\n",
    "# Find sum\n",
    "sum_of_array = np.sum(array)\n",
    "print(f'sum of arr: {sum_of_array}')\n",
    "\n",
    "# Mean\n",
    "mean_of_array = np.mean(array)\n",
    "print(f'mean of array: {mean_of_array}')\n",
    "\n",
    "# Product\n",
    "prod_of_array = np.prod(array)\n",
    "print(f'prod of array: {prod_of_array}')"
   ]
  },
  {
   "cell_type": "code",
   "execution_count": 3,
   "id": "56ca0527-b729-482f-bd61-15581be8098d",
   "metadata": {},
   "outputs": [
    {
     "name": "stdout",
     "output_type": "stream",
     "text": [
      "max: 42\n",
      "min: 4\n",
      "argmax: 5\n",
      "argmin: 0\n"
     ]
    }
   ],
   "source": [
    "#Max/Min\n",
    "print(f'max: {np.max(array)}')\n",
    "print(f'min: {np.min(array)}')\n",
    "\n",
    "#Argmax/Argmin\n",
    "\n",
    "print(f'argmax: {np.argmax(array)}')\n",
    "print(f'argmin: {np.argmin(array)}')\n"
   ]
  },
  {
   "cell_type": "code",
   "execution_count": null,
   "id": "9b1a89e5-7d1a-4118-b4f6-9771bc82ec73",
   "metadata": {},
   "outputs": [],
   "source": []
  },
  {
   "cell_type": "code",
   "execution_count": null,
   "id": "d097a35b-1f63-43fa-9287-6472ce21d77f",
   "metadata": {},
   "outputs": [],
   "source": []
  },
  {
   "cell_type": "code",
   "execution_count": null,
   "id": "47d07fc0-203b-416b-991f-df740cb06aa5",
   "metadata": {},
   "outputs": [],
   "source": []
  },
  {
   "cell_type": "code",
   "execution_count": null,
   "id": "0b5d8eea-c9b7-4d24-a522-5b59b5f09158",
   "metadata": {},
   "outputs": [],
   "source": []
  },
  {
   "cell_type": "code",
   "execution_count": null,
   "id": "4fecaffc-7746-4c01-987a-0dc463a0fc60",
   "metadata": {},
   "outputs": [],
   "source": []
  },
  {
   "cell_type": "code",
   "execution_count": null,
   "id": "0877f225-5328-41fd-b689-e20e4fa56903",
   "metadata": {},
   "outputs": [],
   "source": []
  },
  {
   "cell_type": "code",
   "execution_count": null,
   "id": "20bb3240-9ede-45c1-966f-19394dd50e94",
   "metadata": {},
   "outputs": [],
   "source": []
  },
  {
   "cell_type": "code",
   "execution_count": null,
   "id": "b5763883-fa3a-4120-bc34-7b962ddac3c4",
   "metadata": {},
   "outputs": [],
   "source": []
  },
  {
   "cell_type": "code",
   "execution_count": null,
   "id": "4cbd9a40-0525-4ae6-b400-dcf644828d2b",
   "metadata": {},
   "outputs": [],
   "source": []
  },
  {
   "cell_type": "code",
   "execution_count": null,
   "id": "ea1523f1-7082-435d-a3e0-cd40c506c2e4",
   "metadata": {},
   "outputs": [],
   "source": []
  },
  {
   "cell_type": "code",
   "execution_count": null,
   "id": "d374c41f-f7e3-416a-a9ee-a66a4132e0a4",
   "metadata": {},
   "outputs": [],
   "source": []
  },
  {
   "cell_type": "code",
   "execution_count": null,
   "id": "ccfed555-dfa6-493f-b5ce-1e53b93b8c00",
   "metadata": {},
   "outputs": [],
   "source": []
  },
  {
   "cell_type": "code",
   "execution_count": null,
   "id": "9f45a18d-404e-4039-a0ab-608c6785d73a",
   "metadata": {},
   "outputs": [],
   "source": []
  },
  {
   "cell_type": "code",
   "execution_count": null,
   "id": "1c07cab3-a05d-469f-a799-1febe2eb0b95",
   "metadata": {},
   "outputs": [],
   "source": []
  },
  {
   "cell_type": "code",
   "execution_count": null,
   "id": "4880aacb-cc60-4119-bb87-26a2a303b70a",
   "metadata": {},
   "outputs": [],
   "source": []
  },
  {
   "cell_type": "code",
   "execution_count": null,
   "id": "98e98ad6-6832-476a-aea0-3738a2d90279",
   "metadata": {},
   "outputs": [],
   "source": []
  },
  {
   "cell_type": "code",
   "execution_count": null,
   "id": "a8e28858-0fad-4a89-ab61-39a25ee3a6a7",
   "metadata": {},
   "outputs": [],
   "source": []
  },
  {
   "cell_type": "code",
   "execution_count": null,
   "id": "4bb354e1-a39f-40bd-b0b9-00ce62624b9b",
   "metadata": {},
   "outputs": [],
   "source": []
  },
  {
   "cell_type": "code",
   "execution_count": null,
   "id": "4a795c22-5cfd-4268-9612-a5b99fafa528",
   "metadata": {},
   "outputs": [],
   "source": []
  },
  {
   "cell_type": "code",
   "execution_count": null,
   "id": "45397ac0-52d5-4567-893f-bb640e43c466",
   "metadata": {},
   "outputs": [],
   "source": []
  },
  {
   "cell_type": "code",
   "execution_count": null,
   "id": "69c1a531-7fe8-4a90-8450-1f0c721cea5f",
   "metadata": {},
   "outputs": [],
   "source": []
  },
  {
   "cell_type": "code",
   "execution_count": null,
   "id": "1910d2e3-2331-46fa-9dea-c508c3a7f55f",
   "metadata": {},
   "outputs": [],
   "source": []
  },
  {
   "cell_type": "code",
   "execution_count": null,
   "id": "b2e8a0a7-6d11-4f0f-be3d-c941a6277850",
   "metadata": {},
   "outputs": [],
   "source": []
  },
  {
   "cell_type": "code",
   "execution_count": null,
   "id": "48c84de6-4e69-41ea-ba26-d3a69e915a7c",
   "metadata": {},
   "outputs": [],
   "source": []
  },
  {
   "cell_type": "code",
   "execution_count": null,
   "id": "6606fd2b-779c-41e4-bf6f-066866b01505",
   "metadata": {},
   "outputs": [],
   "source": []
  },
  {
   "cell_type": "code",
   "execution_count": null,
   "id": "dc164428-f202-42d2-9e86-012509e19081",
   "metadata": {},
   "outputs": [],
   "source": []
  },
  {
   "cell_type": "code",
   "execution_count": null,
   "id": "9a8631a9-70d4-4bc0-95a9-dcc6c6e192c5",
   "metadata": {},
   "outputs": [],
   "source": []
  },
  {
   "cell_type": "code",
   "execution_count": null,
   "id": "00ab7036-03af-4445-b103-430e6d4db2c0",
   "metadata": {},
   "outputs": [],
   "source": []
  },
  {
   "cell_type": "code",
   "execution_count": null,
   "id": "3b084fc4-4f20-4555-9458-f1671d64c83e",
   "metadata": {},
   "outputs": [],
   "source": []
  },
  {
   "cell_type": "code",
   "execution_count": null,
   "id": "8d59081f-4ed9-4946-b2e4-6cdbee986013",
   "metadata": {},
   "outputs": [],
   "source": []
  },
  {
   "cell_type": "code",
   "execution_count": null,
   "id": "c4149081-65a9-412a-87db-7d4d197c0d4b",
   "metadata": {},
   "outputs": [],
   "source": []
  },
  {
   "cell_type": "code",
   "execution_count": null,
   "id": "e53348f4-4425-43f4-886d-8abd0aa1d8e0",
   "metadata": {},
   "outputs": [],
   "source": []
  },
  {
   "cell_type": "code",
   "execution_count": null,
   "id": "6c139d53-c639-45bd-99b6-9ac343499c51",
   "metadata": {},
   "outputs": [],
   "source": []
  },
  {
   "cell_type": "code",
   "execution_count": null,
   "id": "cbb6122c-2cd6-435f-8035-242a8b99c8fb",
   "metadata": {},
   "outputs": [],
   "source": []
  },
  {
   "cell_type": "code",
   "execution_count": null,
   "id": "be7e53df-3136-4826-9952-f43f2db60509",
   "metadata": {},
   "outputs": [],
   "source": []
  },
  {
   "cell_type": "code",
   "execution_count": null,
   "id": "7f144ac0-469a-4b25-a6c6-db81937eb27a",
   "metadata": {},
   "outputs": [],
   "source": []
  },
  {
   "cell_type": "code",
   "execution_count": null,
   "id": "6aa4cd86-4b5d-44e7-b6e4-0e235d2d7ed9",
   "metadata": {},
   "outputs": [],
   "source": []
  },
  {
   "cell_type": "code",
   "execution_count": null,
   "id": "48def80d-6a28-40db-ac5a-620b396f4387",
   "metadata": {},
   "outputs": [],
   "source": []
  },
  {
   "cell_type": "code",
   "execution_count": null,
   "id": "1e48dec6-51c8-4b87-b5bb-8c1a623858c4",
   "metadata": {},
   "outputs": [],
   "source": []
  },
  {
   "cell_type": "code",
   "execution_count": null,
   "id": "d5ef2f0b-774e-4b10-91db-4870de856ddf",
   "metadata": {},
   "outputs": [],
   "source": []
  },
  {
   "cell_type": "code",
   "execution_count": null,
   "id": "9e2e80d3-af4f-400f-a8c3-4387e4f3c334",
   "metadata": {},
   "outputs": [],
   "source": []
  },
  {
   "cell_type": "code",
   "execution_count": null,
   "id": "e0f2a733-9518-467d-8aca-407256c7a4ec",
   "metadata": {},
   "outputs": [],
   "source": []
  },
  {
   "cell_type": "code",
   "execution_count": null,
   "id": "7b07e798-d580-4a44-8383-57efab0ebb0b",
   "metadata": {},
   "outputs": [],
   "source": []
  },
  {
   "cell_type": "code",
   "execution_count": null,
   "id": "916d085a-ddfc-41c6-9f46-c03ef2b13db4",
   "metadata": {},
   "outputs": [],
   "source": []
  },
  {
   "cell_type": "code",
   "execution_count": null,
   "id": "fa18f930-95e4-4b7e-bfe0-f71a11434451",
   "metadata": {},
   "outputs": [],
   "source": []
  },
  {
   "cell_type": "code",
   "execution_count": null,
   "id": "84d8db03-aff5-4e77-9e13-007e05ed2d5a",
   "metadata": {},
   "outputs": [],
   "source": []
  },
  {
   "cell_type": "code",
   "execution_count": null,
   "id": "ff11a55d-a32b-4055-9ada-ae7e77eeca02",
   "metadata": {},
   "outputs": [],
   "source": []
  },
  {
   "cell_type": "code",
   "execution_count": null,
   "id": "41a79c5c-fd65-4cfb-a705-e34832181413",
   "metadata": {},
   "outputs": [],
   "source": []
  },
  {
   "cell_type": "code",
   "execution_count": null,
   "id": "a4971e1e-6493-4aa5-bbbf-922a48bb1f46",
   "metadata": {},
   "outputs": [],
   "source": []
  },
  {
   "cell_type": "code",
   "execution_count": null,
   "id": "7b157036-a24f-4034-b9e6-b9e800332801",
   "metadata": {},
   "outputs": [],
   "source": []
  },
  {
   "cell_type": "code",
   "execution_count": null,
   "id": "5e583081-8c32-4843-ab10-66d179e0f4ff",
   "metadata": {},
   "outputs": [],
   "source": []
  }
 ],
 "metadata": {
  "kernelspec": {
   "display_name": "Python 3 (ipykernel)",
   "language": "python",
   "name": "python3"
  },
  "language_info": {
   "codemirror_mode": {
    "name": "ipython",
    "version": 3
   },
   "file_extension": ".py",
   "mimetype": "text/x-python",
   "name": "python",
   "nbconvert_exporter": "python",
   "pygments_lexer": "ipython3",
   "version": "3.11.4"
  }
 },
 "nbformat": 4,
 "nbformat_minor": 5
}
