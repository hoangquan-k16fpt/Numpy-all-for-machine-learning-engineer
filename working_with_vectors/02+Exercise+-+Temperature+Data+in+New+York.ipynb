{
 "cells": [
  {
   "cell_type": "markdown",
   "metadata": {},
   "source": [
    "# 02 Exercise - Temperature Data in New York"
   ]
  },
  {
   "cell_type": "markdown",
   "metadata": {},
   "source": [
    "In the time period 1981 - 2010, temperature data was recorded at Albany International Airport in New York. Below, you are given the record low temperatures (in Fahrenheit) for each month during this time period. You will apply what you have learned to draw conclusions about this small dataset. "
   ]
  },
  {
   "cell_type": "code",
   "execution_count": 3,
   "metadata": {},
   "outputs": [],
   "source": [
    "# DON'T MODIFY THIS CELL, ONLY RUN IT.\n",
    "record_low_list = [-28, -22, -21, 9, 25, 35, 40, 34, 24, 16, -11, -22]"
   ]
  },
  {
   "cell_type": "markdown",
   "metadata": {},
   "source": [
    "The number 25 at index 4 in the list <b>record_low_list</b> indicates that the record low temperature in the fifth month (May) in the time period 1981 - 2010 was 25 degrees Fahrenheit (Brrr!). "
   ]
  },
  {
   "cell_type": "markdown",
   "metadata": {},
   "source": [
    "## Exercise 1:  Importing NumPy"
   ]
  },
  {
   "cell_type": "markdown",
   "metadata": {},
   "source": [
    "Import NumPy with the alias <b>np</b> so that we can start working with the data:"
   ]
  },
  {
   "cell_type": "code",
   "execution_count": 4,
   "metadata": {},
   "outputs": [],
   "source": [
    "# Import NumPy\n",
    "import numpy as np"
   ]
  },
  {
   "cell_type": "markdown",
   "metadata": {},
   "source": [
    "## Exercise 2: Convert List to a NumPy Array"
   ]
  },
  {
   "cell_type": "markdown",
   "metadata": {},
   "source": [
    "Convert the list called <b>record_low_list</b> into a NumPy array called <b>record_low_array</b>:"
   ]
  },
  {
   "cell_type": "code",
   "execution_count": 5,
   "metadata": {},
   "outputs": [],
   "source": [
    "# Convert the list into a NumPy array\n",
    "record_low_array = np.array(record_low_list)"
   ]
  },
  {
   "cell_type": "markdown",
   "metadata": {},
   "source": [
    "## Exercise 3: Working with Celsius"
   ]
  },
  {
   "cell_type": "markdown",
   "metadata": {},
   "source": [
    "We would like to convert the data into Celsius (°C) instead of Fahrenheit (°F). The conversion formula is $$C = \\frac{5}{9}(F - 32),$$\n",
    "where $C$ denotes  degrees in Celsius and $F$ denotes degrees in Fahrenheit. \n",
    "Convert the <b>record_low_array</b> into a new array that measures degrees in Celsius. Call the new array for <b>record_low_celsius</b>:"
   ]
  },
  {
   "cell_type": "code",
   "execution_count": 10,
   "metadata": {},
   "outputs": [
    {
     "name": "stdout",
     "output_type": "stream",
     "text": [
      "[-33.33 -30.   -29.44 -12.78  -3.89   1.67   4.44   1.11  -4.44  -8.89\n",
      " -23.89 -30.  ]\n"
     ]
    }
   ],
   "source": [
    "# Convert the data to Celsius (°C)\n",
    "record_low_celsius = np.around((5/9)*(record_low_array - 32) , 2)\n",
    "print(np.around((record_low_celsius),2))"
   ]
  },
  {
   "cell_type": "markdown",
   "metadata": {},
   "source": [
    "## Exercise 4: Extract Values"
   ]
  },
  {
   "cell_type": "markdown",
   "metadata": {},
   "source": [
    "It is important to be able to access information. Print out the record low degrees in Celsius in May and in September. You should now be working with the array <b>record_low_celsius</b>:"
   ]
  },
  {
   "cell_type": "code",
   "execution_count": 11,
   "metadata": {},
   "outputs": [
    {
     "name": "stdout",
     "output_type": "stream",
     "text": [
      "-3.89\n",
      "-4.44\n"
     ]
    }
   ],
   "source": [
    "# Print out the record low degrees in Celsius in May and in September\n",
    "print(record_low_celsius[4])\n",
    "print(record_low_celsius[8])"
   ]
  },
  {
   "cell_type": "markdown",
   "metadata": {},
   "source": [
    "## Exercise 5: Extract Multiple Values"
   ]
  },
  {
   "cell_type": "markdown",
   "metadata": {},
   "source": [
    "We would like to save the three values corresponding to the spring months (March, April, and May) into a new array variable called <b>record_low_celsius_spring</b>. Do this by using slicing:\n",
    "\n",
    "<i>Tip:</i> Remember that Python (and hence NumPy) counts from zero when indexing. Hence the value for March will have index value two, not three. "
   ]
  },
  {
   "cell_type": "code",
   "execution_count": 13,
   "metadata": {},
   "outputs": [
    {
     "name": "stdout",
     "output_type": "stream",
     "text": [
      "[-29.44 -12.78  -3.89]\n"
     ]
    }
   ],
   "source": [
    "# Extract the values corresponding to the spring month.\n",
    "record_low_celsius_spring = record_low_celsius[2:5]\n",
    "print(record_low_celsius_spring)"
   ]
  },
  {
   "cell_type": "markdown",
   "metadata": {},
   "source": [
    "## Exercise 6: Sorting"
   ]
  },
  {
   "cell_type": "markdown",
   "metadata": {},
   "source": [
    "Sometimes it is nice to have the values sorted after size. Make a new variable called <b>sorted_celsius</b> that has the values in <b>record_low_celsius</b> in sorted order (starting with the lowest, and ending with the largest value)."
   ]
  },
  {
   "cell_type": "code",
   "execution_count": 14,
   "metadata": {},
   "outputs": [
    {
     "data": {
      "text/plain": [
       "array([-33.33, -30.  , -30.  , -29.44, -23.89, -12.78,  -8.89,  -4.44,\n",
       "        -3.89,   1.11,   1.67,   4.44])"
      ]
     },
     "execution_count": 14,
     "metadata": {},
     "output_type": "execute_result"
    }
   ],
   "source": [
    "# Set up a new variable that is sorted \n",
    "sorted_celsius = np.sort(record_low_celsius)\n",
    "sorted_celsius"
   ]
  },
  {
   "cell_type": "markdown",
   "metadata": {},
   "source": [
    "## Exercise 7: Finding Maximum and Minimum Values"
   ]
  },
  {
   "cell_type": "markdown",
   "metadata": {},
   "source": [
    "We often want to find maximum and minimum values in our data. Use the <b>max</b> and <b>min</b> methods to find the largest and smallest temperatures in <b>record_low_celsius</b>:"
   ]
  },
  {
   "cell_type": "code",
   "execution_count": 15,
   "metadata": {},
   "outputs": [
    {
     "name": "stdout",
     "output_type": "stream",
     "text": [
      "4.44\n",
      "-33.33\n"
     ]
    }
   ],
   "source": [
    "# Find the largest temperature\n",
    "max = np.max(record_low_celsius)\n",
    "# Find the smallest temperature\n",
    "min = np.min(record_low_celsius)\n",
    "print(max)\n",
    "print(min)\n"
   ]
  },
  {
   "cell_type": "markdown",
   "metadata": {},
   "source": [
    "## Exercise 8: Which Months do They Correspond to?"
   ]
  },
  {
   "cell_type": "markdown",
   "metadata": {},
   "source": [
    "In the last exercise, you found that the largest and smallest temperature in <b>record_low_celsius</b>. But which months do they correspond to? Use the <b>argmax</b> and <b>argmin</b> methods to determine this:"
   ]
  },
  {
   "cell_type": "code",
   "execution_count": 16,
   "metadata": {},
   "outputs": [
    {
     "name": "stdout",
     "output_type": "stream",
     "text": [
      "6\n",
      "0\n"
     ]
    }
   ],
   "source": [
    "# Find the month with the largest temperature\n",
    "argmax = np.argmax(record_low_celsius)\n",
    "# Find the month with the smallest temperature\n",
    "argmin = np.argmin(record_low_celsius)\n",
    "print(argmax)\n",
    "print(argmin)"
   ]
  },
  {
   "cell_type": "markdown",
   "metadata": {},
   "source": [
    "## Exercise 9: Calculating Means"
   ]
  },
  {
   "cell_type": "markdown",
   "metadata": {},
   "source": [
    "A value of importance is the mean (or average). Calculate the average lowest temperature in the whole year (in Celsius). You will need the <b>record_low_celsius</b> array and the <b>mean</b> method:"
   ]
  },
  {
   "cell_type": "code",
   "execution_count": 17,
   "metadata": {},
   "outputs": [
    {
     "data": {
      "text/plain": [
       "-14.12"
      ]
     },
     "execution_count": 17,
     "metadata": {},
     "output_type": "execute_result"
    }
   ],
   "source": [
    "# Calculate the average lowest temperature\n",
    "mean_of_record = np.mean(record_low_celsius)\n",
    "mean_of_record"
   ]
  },
  {
   "cell_type": "markdown",
   "metadata": {},
   "source": [
    "What is the average temperature in the spring?\n",
    "\n",
    "<i>Hint:</i> Use the variable <b>record_low_celsius_spring</b> that you have defined earlier."
   ]
  },
  {
   "cell_type": "code",
   "execution_count": 19,
   "metadata": {},
   "outputs": [
    {
     "data": {
      "text/plain": [
       "-15.37"
      ]
     },
     "execution_count": 19,
     "metadata": {},
     "output_type": "execute_result"
    }
   ],
   "source": [
    "# Calculate the average lowest temperature in the spring\n",
    "mean_of_spring = np.mean(record_low_celsius_spring)\n",
    "mean_of_spring"
   ]
  },
  {
   "cell_type": "markdown",
   "metadata": {},
   "source": [
    "## Exercise 10: Challenge"
   ]
  },
  {
   "cell_type": "markdown",
   "metadata": {},
   "source": [
    "I want to find the month where the lowest temperature measured is closest to -10 degrees Celsius:"
   ]
  },
  {
   "cell_type": "code",
   "execution_count": 21,
   "metadata": {},
   "outputs": [
    {
     "data": {
      "text/plain": [
       "3"
      ]
     },
     "execution_count": 21,
     "metadata": {},
     "output_type": "execute_result"
    }
   ],
   "source": [
    "# Find value that is closest to -10\n",
    "closet_10 = np.abs(record_low_array - 10).argmin()\n",
    "closet_10"
   ]
  },
  {
   "cell_type": "markdown",
   "metadata": {},
   "source": [
    "<i>Hints</i> (try to think on the problem before looking at the hints):\n",
    "1) Add 10 to the array <b>record_low_celsius</b>. Now the problem has been changed to find the value in the new array that is closest to zero.\n",
    "\n",
    "2) We are only interested in the distance from zero, not the sign of the number (whether it is positive or negative). Use the <b>abs</b> method to only consider positive numbers.\n",
    "\n",
    "3) Use <b>argmin</b> to find the answer:"
   ]
  },
  {
   "cell_type": "markdown",
   "metadata": {},
   "source": [
    "## Moral of the Story"
   ]
  },
  {
   "cell_type": "markdown",
   "metadata": {},
   "source": [
    "We've seen how to work with simple temperature data in NumPy. In the beginning, it is tempting to shrug off our achievements away by thinking that we can just look at the data, and then answer the questions. But this is only possible if the data is small. \n",
    "\n",
    "Image that you were asked similar questions, but the temperatures was collection for each day over a period of 10 years. That is over 3500 values! The simple technique of \"looking though the data with yours eyes\" to find max/min/argmax/argmin/mean is not possible anymore (unless you want to spend your whole day scrolling). However, what we have learned in this section can easily handle these questions. \n",
    "\n",
    "In the next section, Stine will teach you plotting and how this also can help us to find structure in data!"
   ]
  }
 ],
 "metadata": {
  "kernelspec": {
   "display_name": "Python 3",
   "language": "python",
   "name": "python3"
  },
  "language_info": {
   "codemirror_mode": {
    "name": "ipython",
    "version": 3
   },
   "file_extension": ".py",
   "mimetype": "text/x-python",
   "name": "python",
   "nbconvert_exporter": "python",
   "pygments_lexer": "ipython3",
   "version": "3.11.4"
  }
 },
 "nbformat": 4,
 "nbformat_minor": 4
}
